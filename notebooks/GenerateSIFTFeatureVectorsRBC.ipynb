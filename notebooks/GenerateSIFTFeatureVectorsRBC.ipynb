{
 "cells": [
  {
   "cell_type": "markdown",
   "metadata": {},
   "source": [
    "# Generate SIFT feature vectors for defect classification\n",
    "\n",
    "This notebook generates feature vectors to be used for clustering local patterns in Rayleigh-Benard Convection. We run the SIFT-like algorithm for the topological and persistent homology keypoints to generate feature vectors at each keypoint."
   ]
  },
  {
   "cell_type": "code",
   "execution_count": 1,
   "metadata": {
    "collapsed": false
   },
   "outputs": [],
   "source": [
    "import numpy as np\n",
    "import scipy\n",
    "from scipy.cluster import hierarchy as hc\n",
    "import pandas as pd\n",
    "from skimage import morphology\n",
    "from scipy import misc\n",
    "from matplotlib import pyplot as plt\n",
    "import math, time\n",
    "from skimage import measure\n",
    "from scipy import signal\n",
    "from scipy.ndimage.filters import gaussian_filter\n",
    "from PIL import Image\n",
    "from mpl_toolkits.axes_grid1 import make_axes_locatable\n",
    "import seaborn.apionly as sns \n",
    "from scipy import spatial\n",
    "import time\n",
    "\n",
    "%matplotlib inline  "
   ]
  },
  {
   "cell_type": "markdown",
   "metadata": {},
   "source": [
    "## Set up local environment variables"
   ]
  },
  {
   "cell_type": "code",
   "execution_count": 13,
   "metadata": {
    "collapsed": false
   },
   "outputs": [],
   "source": [
    "sDir = '/Users/birdbrain/Documents/Research/Projects/Schatz/Data/g21chaotic/r4000_2015_09_16_fast'\n",
    "sBmp = 'g21flow/bmps/%06d.bmp'\n",
    "sOrientation = 'g21flow/orientation_field_3/%06d.bmp'\n",
    "sSingularPoints = 'g21flow/singular_points_3/%06d.txt'\n",
    "sSubPD = 'g21flow/pd_sub/%06d.csv'\n",
    "sSupPD = 'g21flow/pd_sup/%06d.csv'\n",
    "\n",
    "sFeatureVectors = 'g21flow/feature_vectors_test_2/%06d.txt'\n",
    "\n",
    "roll_width = 30 # Width of a single roll\n",
    "centerx = 210 # Center-x of circular crop\n",
    "centery = 210 # Center-y of circular crop\n",
    "crop_radius = 210-roll_width # Radius of circular crop\n",
    "\n",
    "delta = 10\n",
    "lowercutoff = 45\n",
    "uppercutoff = 200\n"
   ]
  },
  {
   "cell_type": "markdown",
   "metadata": {},
   "source": [
    "## Utility functions"
   ]
  },
  {
   "cell_type": "code",
   "execution_count": 6,
   "metadata": {
    "collapsed": true
   },
   "outputs": [],
   "source": [
    "def loadData(idx):\n",
    "    # Get orientation field\n",
    "    of = misc.imread(sDir + \"/\" + (sOrientation % idx))\n",
    "    \n",
    "    bmp = misc.imread(sDir + \"/\" + (sBmp % idx))\n",
    "    \n",
    "    # Persistent homology lower saddle points\n",
    "    ph_features_sub = pd.read_csv(sDir + \"/\" + (sSubPD % idx))\n",
    "    ph_features_sub = pd.DataFrame(ph_features_sub)\n",
    "    \n",
    "    # Persistent homology upper saddle points\n",
    "    ph_features_sup = pd.read_csv(sDir + \"/\" + (sSupPD % idx))\n",
    "    ph_features_sup = pd.DataFrame(ph_features_sup)\n",
    "\n",
    "    # Generate persistent homology defect matrix\n",
    "    ph_lower_saddles = ph_features_sub.loc[(ph_features_sub['dim']==0) & ((ph_features_sub['death'] - ph_features_sub['birth']) >= delta) & (ph_features_sub['death']>=lowercutoff) & (ph_features_sub['death']<=127)][['d_x','d_y']]\n",
    "    ph_lower_saddles.columns = ['x', 'y']\n",
    "    ph_tmp = ph_features_sub.loc[(ph_features_sub['dim']==1) & ((ph_features_sub['death'] - ph_features_sub['birth']) >= delta) & (ph_features_sub['birth']>=lowercutoff) & (ph_features_sub['birth']<=127)][['b_x','b_y']]\n",
    "    ph_tmp.columns = ['x', 'y']\n",
    "    ph_lower_saddles = pd.concat([ph_lower_saddles, ph_tmp])\n",
    "    ph_lower_saddles['ph_sub_0'] = 1\n",
    "    ph_lower_saddles['ph_sub_1'] = 0\n",
    "    ph_lower_saddles['ph_sup_0'] = 0\n",
    "    ph_lower_saddles['ph_sup_1'] = 0\n",
    "    ph_lower_saddles['td_p1'] = 0\n",
    "    ph_lower_saddles['td_m1'] = 0\n",
    "    ph_lower_saddles['td_p2'] = 0\n",
    "    ph_lower_saddles['td_m2'] = 0\n",
    "    \n",
    "    ph_upper_saddles = ph_features_sup.loc[(ph_features_sup['dim']==0) & ((ph_features_sup['birth'] - ph_features_sup['death']) >= delta) & (ph_features_sup['death']>=127) & (ph_features_sup['death']<=uppercutoff)][['d_x','d_y']]\n",
    "    ph_upper_saddles.columns = ['x', 'y']\n",
    "    ph_tmp = ph_features_sup.loc[(ph_features_sup['dim']==1) & ((ph_features_sup['birth'] - ph_features_sup['death']) >= delta) & (ph_features_sup['birth']>=127) & (ph_features_sup['birth']<=uppercutoff)][['b_x','b_y']]\n",
    "    ph_tmp.columns = ['x', 'y']\n",
    "    ph_upper_saddles = pd.concat([ph_lower_saddles, ph_tmp])\n",
    "    ph_upper_saddles['ph_sub_0'] = 0\n",
    "    ph_upper_saddles['ph_sub_1'] = 0\n",
    "    ph_upper_saddles['ph_sup_0'] = 1\n",
    "    ph_upper_saddles['ph_sup_1'] = 0\n",
    "    ph_upper_saddles['td_p1'] = 0\n",
    "    ph_upper_saddles['td_m1'] = 0\n",
    "    ph_upper_saddles['td_p2'] = 0\n",
    "    ph_upper_saddles['td_m2'] = 0\n",
    "    \n",
    "    ph_lower_plumes = ph_features_sub.loc[(ph_features_sub['dim']==1) & ((ph_features_sub['death'] - ph_features_sub['birth']) >= delta) & (ph_features_sub['birth']<=127) & (ph_features_sub['death']<=uppercutoff)][['d_x','d_y']]\n",
    "    ph_lower_plumes.columns = ['x', 'y']\n",
    "    ph_lower_plumes['ph_sub_0'] = 0\n",
    "    ph_lower_plumes['ph_sub_1'] = 1\n",
    "    ph_lower_plumes['ph_sup_0'] = 0\n",
    "    ph_lower_plumes['ph_sup_1'] = 0\n",
    "    ph_lower_plumes['td_p1'] = 0\n",
    "    ph_lower_plumes['td_m1'] = 0\n",
    "    ph_lower_plumes['td_p2'] = 0\n",
    "    ph_lower_plumes['td_m2'] = 0\n",
    "    \n",
    "    ph_upper_plumes = ph_features_sup.loc[(ph_features_sup['dim']==1) & ((ph_features_sup['birth'] - ph_features_sup['death']) >= delta) & (ph_features_sup['birth']>=127) & (ph_features_sup['death']>=lowercutoff)][['d_x','d_y']]\n",
    "    ph_upper_plumes.columns = ['x', 'y']\n",
    "    ph_upper_plumes['ph_sub_0'] = 0\n",
    "    ph_upper_plumes['ph_sub_1'] = 0\n",
    "    ph_upper_plumes['ph_sup_0'] = 0\n",
    "    ph_upper_plumes['ph_sup_1'] = 1\n",
    "    ph_upper_plumes['td_p1'] = 0\n",
    "    ph_upper_plumes['td_m1'] = 0\n",
    "    ph_upper_plumes['td_p2'] = 0\n",
    "    ph_upper_plumes['td_m2'] = 0\n",
    "\n",
    "    ph_defects = np.concatenate((ph_lower_saddles, ph_upper_saddles, ph_lower_plumes, ph_upper_plumes), axis=0)\n",
    "\n",
    "    # Topological defects\n",
    "    td = pd.read_csv(sDir + \"/\" + (sSingularPoints % idx), sep=' ', names=['y', 'x', 'type'])\n",
    "    td_defects = td.astype(np.int)\n",
    "    td_defects['ph_sub_0'] = 0\n",
    "    td_defects['ph_sub_1'] = 0\n",
    "    td_defects['ph_sup_0'] = 0\n",
    "    td_defects['ph_sup_1'] = 0\n",
    "    td_defects['td_p1'] = (td_defects['type'] == 1).astype(np.int)\n",
    "    td_defects['td_m1'] = (td_defects['type'] == -1).astype(np.int)\n",
    "    td_defects['td_p2'] = (td_defects['type'] == 2).astype(np.int)\n",
    "    td_defects['td_m2'] = (td_defects['type'] == -2).astype(np.int)\n",
    "    \n",
    "    td_defects = td_defects.drop('type', 1)\n",
    "    td_defects = td_defects[['x', 'y', 'ph_sub_0', 'ph_sub_1', 'ph_sup_0', 'ph_sup_1', 'td_p1', 'td_m1', 'td_p2', 'td_m2']]\n",
    "\n",
    "    return (of, np.concatenate((ph_defects, td_defects), axis=0), bmp)\n"
   ]
  },
  {
   "cell_type": "code",
   "execution_count": 7,
   "metadata": {
    "collapsed": true
   },
   "outputs": [],
   "source": [
    "def loadData_Lyap(idx):\n",
    "    # Get orientation field\n",
    "    of = misc.imread(sDir + \"/\" + (sOrientation % idx))\n",
    "    # Get bitmap image\n",
    "    bmp = misc.imread(sDir + \"/\" + (sBmp % idx))\n",
    "    # Get Lyapunov local maxima (from H1 sublevel death critical cell)\n",
    "    lyap_gens = pd.read_csv(sDir + \"/\" + (sLyapunovSupPD % idx))\n",
    "    lyap_gens = lyap_gens.loc[(lyap_gens['dim']==1) & (lyap_gens['death']>=lyap_threshold)]\n",
    "    lyap_gens = lyap_gens[['d_x', 'd_y','death']]\n",
    "    \n",
    "    lyap_gens = np.asarray(lyap_gens)\n",
    "\n",
    "    return (of, lyap_gens, bmp)\n"
   ]
  },
  {
   "cell_type": "code",
   "execution_count": 8,
   "metadata": {
    "collapsed": true
   },
   "outputs": [],
   "source": [
    "def convertMainOrientationBin(_bin, _nbins):\n",
    "    # Convert from [0,_nbins] to [0,180] to [0,pi]\n",
    "    orientation = math.radians(_bin*180*(1/_nbins))\n",
    "    # Convert from [0,pi] to [-pi/2, pi/2]\n",
    "    orientation = orientation - math.pi/2.\n",
    "    # Convert from [-pi/2, pi/2] to [pi/2 -> -pi/2 decreasing]\n",
    "    orientation = orientation*-1.\n",
    "    \n",
    "    return orientation\n",
    "    "
   ]
  },
  {
   "cell_type": "code",
   "execution_count": 22,
   "metadata": {
    "collapsed": true
   },
   "outputs": [],
   "source": [
    "def assignOrientations(_keypoints, _radius, _orientationfield, nbins, max_factor, _bmp, makeplot):\n",
    "    \"\"\"\n",
    "    Takes in the list of keypoints, the orientation field, and the number of binning values to\n",
    "    use for the orientation field. Generates a histogram of orientations. Computes the max peak.\n",
    "    Assigns corresponding orientation to the original keypoint. Adds copies of keypoint to the\n",
    "    table with orientations given by other peaks that are at least 80% of max peak.\n",
    "    \"\"\"\n",
    "    \n",
    "    plt.rcParams['figure.figsize'] = (10.0, 5.0)\n",
    "    \n",
    "    allKeypoints = _keypoints\n",
    "    allKeypoints = np.hstack([allKeypoints, np.zeros((_keypoints.shape[0],2), np.int)])\n",
    "        \n",
    "    # Get circular crop\n",
    "    crop = np.zeros((_radius*2, _radius*2))\n",
    "    crop[_radius, _radius] = 1\n",
    "    crop = morphology.binary_dilation(crop, morphology.disk(_radius))\n",
    "    \n",
    "    for i in range(_keypoints.shape[0]):\n",
    "                \n",
    "        x = _keypoints[i,0]\n",
    "        y = _keypoints[i,1]\n",
    "        \n",
    "        if (((x - centerx)**2 + (y - centery)**2) <= crop_radius**2):\n",
    "\n",
    "            # Crop orientation field\n",
    "            cropped_orientation = _orientationfield[(y-_radius):(y+_radius), (x-_radius):(x+_radius)]\n",
    "            \n",
    "            # Get histogram for the orientation field\n",
    "            orig_hist = np.histogram(cropped_orientation[crop==1], bins=nbins, range=(0,256))[0]\n",
    "            hist = scipy.ndimage.filters.gaussian_filter(orig_hist, sigma=0.75)\n",
    "            maxpeak = max(hist)\n",
    "        \n",
    "            \n",
    "            if makeplot:\n",
    "                plt.subplot(1,2,1)\n",
    "                plt.plot(orig_hist)\n",
    "                plt.plot(hist)\n",
    "                plt.plot([0,nbins], [maxpeak*max_factor, maxpeak*max_factor])\n",
    "                plt.plot([0,nbins], [max(orig_hist)*max_factor, max(orig_hist)*max_factor])\n",
    "\n",
    "            peaks = (hist >= max_factor*float(maxpeak)).astype(np.int)\n",
    "\n",
    "            # Label each of the peak components\n",
    "            peak_components = measure.label(peaks, background=0)+1\n",
    "            \n",
    "            \n",
    "            if (x==153) & (y==320):\n",
    "                print peak_components\n",
    "\n",
    "                        \n",
    "            # If peak wraps first bin to last bin, combine these peaks\n",
    "            if (peak_components[0] > 0) & (peak_components[-1] > 0):\n",
    "                peak_components[(peak_components == peak_components[-1])] = peak_components[0]\n",
    "\n",
    "            maxorientations = []\n",
    "\n",
    "            for peak_ind in range(1,max(peak_components)+1):\n",
    "                # Extract the histogram values that fall on this component\n",
    "                peak_values = np.multiply((peak_components == peak_ind).astype(int), hist)\n",
    "                maxorientations.append([np.argmax(peak_values), sum(peak_values)])\n",
    "\n",
    "            maxorientations = np.asarray(maxorientations)\n",
    "            \n",
    "            if (x==153) & (y==320):\n",
    "                print maxorientations\n",
    "            \n",
    "            if makeplot:\n",
    "                plt.subplot(1,2,2)\n",
    "                plt.imshow(bmp[(y - radius):(y + radius), (x - radius):(x+radius)])\n",
    "\n",
    "                ax = plt.gca()\n",
    "                plt.gca().set_axis_off()\n",
    "                circle1 = plt.Circle((radius, radius), _radius, color='white', fill=False, lw=2)\n",
    "                ax.add_artist(circle1)\n",
    "\n",
    "            for j in range(maxorientations.shape[0]):\n",
    "                orientation_rad = convertMainOrientationBin(maxorientations[j,0], nbins)\n",
    "                \n",
    "                if makeplot:\n",
    "                    plt.plot([(radius - _radius*math.cos(orientation_rad)), (radius + _radius*math.cos(orientation_rad))], \\\n",
    "                             [(radius - _radius*math.sin(orientation_rad)), (radius + _radius*math.sin(orientation_rad))], \\\n",
    "                            color='white', lw=2)\n",
    "                if j == 0:\n",
    "                    allKeypoints[i,-2:] = maxorientations[0,:]\n",
    "                else:\n",
    "                    feature = np.concatenate((_keypoints[i,:], maxorientations[j,:]),axis=0)\n",
    "                    allKeypoints = np.vstack([allKeypoints, feature])\n",
    "                    \n",
    "            if makeplot:\n",
    "                plt.show()\n",
    "\n",
    "    return allKeypoints\n"
   ]
  },
  {
   "cell_type": "code",
   "execution_count": 10,
   "metadata": {
    "collapsed": true
   },
   "outputs": [],
   "source": [
    "def getFeatureVector(orientationfield, rotation, x, y, _radius, _inner_radius_factor, _nbins, _sigma_divisor, _bmp, makeplot):\n",
    "    \"\"\"\n",
    "    Takes in a single local patch from the orientation field and generates keypoint descriptor from it.\n",
    "    Circular patch of given radius centered at (x,y) is cropped from orientation field and divided\n",
    "    into eight localized patches, after rotating so that the keypoint orientation is centered at zero.\n",
    "    \n",
    "    Each smaller patch gets an orientation histogram with the supplied number\n",
    "    of bins. The value in each bin is the output feature vector for that localized patch, and each of the\n",
    "    eight localized patches are concatenated together to form a feature vector of length 4*nbins.\n",
    "    \n",
    "    The eight localized patches are concentric quadrants of two circles at an outer radius of radius and\n",
    "    an inner radius of _radius*_inner_radius_factor.\n",
    "    \"\"\"\n",
    "    \n",
    "    inner_radius = int(_radius*_inner_radius_factor)\n",
    "    outer_radius = _radius\n",
    "    \n",
    "    # GAUSSIAN WEIGHTS\n",
    "    # Get circular crop\n",
    "    weights = np.zeros((outer_radius*2, outer_radius*2))\n",
    "    weights[outer_radius, outer_radius] = 1\n",
    "    weights = scipy.ndimage.filters.gaussian_filter(weights, sigma=outer_radius/_sigma_divisor)\n",
    "    weights = weights/np.amax(weights)\n",
    "    inner_weights = weights[(outer_radius - inner_radius):(outer_radius+inner_radius), (outer_radius - inner_radius):(outer_radius+inner_radius)]\n",
    "    \n",
    "    # INNER CIRCLE\n",
    "    # Get circular crop\n",
    "    crop = np.zeros((inner_radius*2, inner_radius*2))\n",
    "    crop[inner_radius, inner_radius] = 1\n",
    "    crop = morphology.binary_dilation(crop, morphology.disk(inner_radius))\n",
    "        \n",
    "    # Crop orientation field\n",
    "    cropped_orientation = orientationfield[(y-inner_radius):(y+inner_radius), (x-inner_radius):(x+inner_radius)]\n",
    "    \n",
    "    # Rotate cropped orientation field: scale to 180 degrees, subtract rotation, then scale to 255\n",
    "    rotated_orientation = ((cropped_orientation.astype(np.float)*(180./255.) + float(rotation))*(255./180.)).astype(np.int)%256\n",
    "\n",
    "    # Get histogram for each of the four inner subregions\n",
    "    tmp_radius = inner_radius\n",
    "    hist11_inner = np.histogram(rotated_orientation[0:tmp_radius, 0:tmp_radius][crop[0:tmp_radius, 0:tmp_radius]], bins=_nbins, range=(0,256), weights=inner_weights[0:tmp_radius, 0:tmp_radius][crop[0:tmp_radius, 0:tmp_radius]])[0]\n",
    "    hist12_inner = np.histogram(rotated_orientation[0:tmp_radius, (tmp_radius+1):(2*tmp_radius)][crop[0:tmp_radius, (tmp_radius+1):(2*tmp_radius)]], bins=_nbins, range=(0,256), weights=inner_weights[0:tmp_radius, (tmp_radius+1):(2*tmp_radius)][crop[0:tmp_radius, (tmp_radius+1):(2*tmp_radius)]])[0]\n",
    "    hist21_inner = np.histogram(rotated_orientation[(tmp_radius+1):(2*tmp_radius), 0:tmp_radius][crop[(tmp_radius+1):(2*tmp_radius), 0:tmp_radius]], bins=_nbins, range=(0,256), weights=inner_weights[(tmp_radius+1):(2*tmp_radius), 0:tmp_radius][crop[(tmp_radius+1):(2*tmp_radius), 0:tmp_radius]])[0]\n",
    "    hist22_inner = np.histogram(rotated_orientation[(tmp_radius+1):(2*tmp_radius), (tmp_radius+1):(2*tmp_radius)][crop[(tmp_radius+1):(2*tmp_radius), (tmp_radius+1):(2*tmp_radius)]], bins=_nbins, range=(0,256), weights=inner_weights[(tmp_radius+1):(2*tmp_radius), (tmp_radius+1):(2*tmp_radius)][crop[(tmp_radius+1):(2*tmp_radius), (tmp_radius+1):(2*tmp_radius)]])[0]\n",
    "    \n",
    "    # OUTER CIRCLE\n",
    "    # Get circular crop\n",
    "    crop = np.zeros((outer_radius*2, outer_radius*2))\n",
    "    crop[outer_radius, outer_radius] = 1\n",
    "    crop = morphology.binary_dilation(crop, morphology.disk(outer_radius))\n",
    "    remove = np.zeros((outer_radius*2, outer_radius*2))\n",
    "    remove[outer_radius, outer_radius] = 1\n",
    "    remove = morphology.binary_dilation(remove, morphology.disk(inner_radius))\n",
    "    crop = crop ^ remove\n",
    "    \n",
    "    # Crop orientation field\n",
    "    cropped_orientation = orientationfield[(y-outer_radius):(y+outer_radius), (x-outer_radius):(x+outer_radius)]\n",
    "    \n",
    "    # Rotate cropped orientation field\n",
    "    rotated_orientation = ((cropped_orientation.astype(np.float)*(180./255.) + float(rotation))*(255./180.)).astype(np.int)%256\n",
    "\n",
    "    \n",
    "    # Get histogram for each of the four outer subregions\n",
    "    tmp_radius = outer_radius\n",
    "    hist11_outer = np.histogram(rotated_orientation[0:tmp_radius, 0:tmp_radius][crop[0:tmp_radius, 0:tmp_radius]], bins=_nbins, range=(0,256), weights=weights[0:tmp_radius, 0:tmp_radius][crop[0:tmp_radius, 0:tmp_radius]])[0]\n",
    "    hist12_outer = np.histogram(rotated_orientation[0:tmp_radius, (tmp_radius+1):(2*tmp_radius)][crop[0:tmp_radius, (tmp_radius+1):(2*tmp_radius)]], bins=_nbins, range=(0,256), weights=weights[0:tmp_radius, (tmp_radius+1):(2*tmp_radius)][crop[0:tmp_radius, (tmp_radius+1):(2*tmp_radius)]])[0]\n",
    "    hist21_outer = np.histogram(rotated_orientation[(tmp_radius+1):(2*tmp_radius), 0:tmp_radius][crop[(tmp_radius+1):(2*tmp_radius), 0:tmp_radius]], bins=_nbins, range=(0,256), weights=weights[(tmp_radius+1):(2*tmp_radius), 0:tmp_radius][crop[(tmp_radius+1):(2*tmp_radius), 0:tmp_radius]])[0]\n",
    "    hist22_outer = np.histogram(rotated_orientation[(tmp_radius+1):(2*tmp_radius), (tmp_radius+1):(2*tmp_radius)][crop[(tmp_radius+1):(2*tmp_radius), (tmp_radius+1):(2*tmp_radius)]], bins=_nbins, range=(0,256), weights=weights[(tmp_radius+1):(2*tmp_radius), (tmp_radius+1):(2*tmp_radius)][crop[(tmp_radius+1):(2*tmp_radius), (tmp_radius+1):(2*tmp_radius)]])[0]\n",
    "    \n",
    "    \n",
    "    # Return feature vector\n",
    "    featurevector = np.concatenate((hist11_inner, hist12_inner, hist21_inner, hist22_inner, hist11_outer, hist12_outer, hist21_outer, hist22_outer), axis=0)\n",
    "\n",
    "    return featurevector\n",
    "    "
   ]
  },
  {
   "cell_type": "code",
   "execution_count": 11,
   "metadata": {
    "collapsed": true
   },
   "outputs": [],
   "source": [
    "def computeDistance(f1, fv2):\n",
    "    \"\"\"Compute the distance between two locations based on a nearest neighbor keypoint match.\n",
    "\n",
    "    Arguments:\n",
    "    f1 -- The keypoint to search with\n",
    "    fv2 -- The feature vector to search for the second pattern\n",
    "    \n",
    "    Returns:\n",
    "    The distance between the location of the keypoints that are matched by nearest neighbor.\n",
    "    \"\"\"\n",
    "    \n",
    "    \n",
    "    feature_index = 11\n",
    "    \n",
    "    x1 = f1[1]\n",
    "    y1 = f1[2]\n",
    "    time1 = f1[0]\n",
    "    time2 = fv2[0,0]\n",
    "    \n",
    "    dist = 500\n",
    "\n",
    "\n",
    "    # Compare f1 to each of the features in the second feature vector\n",
    "    keypoint_type = np.argwhere(f1[3:9]==1)\n",
    "    fv2_sametype = fv2[np.where(fv2[:,keypoint_type+3]==1)[0], :]\n",
    "    if len(fv2_sametype)>0:\n",
    "        allfv = np.vstack((f1, fv2_sametype))\n",
    "        allfv = allfv[:,feature_index:]\n",
    "\n",
    "        # Get the nearest neighbor\n",
    "        num_neighbors = 1\n",
    "        distmat = spatial.distance.pdist(allfv)\n",
    "        distmat = spatial.distance.squareform(distmat)\n",
    "        sorted_distances = sorted((e,i) for i,e in enumerate(distmat[0,1:]))\n",
    "        sorted_distances = np.asarray(sorted_distances)\n",
    "        nn = sorted_distances[0:num_neighbors, :]\n",
    "\n",
    "        if (len(nn[:,0]) > 0):\n",
    "            n=0\n",
    "            matched_nn = fv2_sametype[nn[0,1],:]\n",
    "            dist = spatial.distance.euclidean((x1, y1),(matched_nn[1], matched_nn[2]))\n",
    "\n",
    "\n",
    "    return dist"
   ]
  },
  {
   "cell_type": "markdown",
   "metadata": {},
   "source": [
    "## Do a parameter analysis for the feature vectors"
   ]
  },
  {
   "cell_type": "code",
   "execution_count": 82,
   "metadata": {
    "collapsed": false,
    "scrolled": true
   },
   "outputs": [
    {
     "name": "stdout",
     "output_type": "stream",
     "text": [
      "5\n",
      "2078.0\n",
      "--- 203.271984816 seconds ---\n",
      "10\n",
      "2078.0\n",
      "--- 206.161123037 seconds ---\n",
      "15\n",
      "2078.0\n",
      "--- 229.900161028 seconds ---\n",
      "20\n",
      "2078.0\n",
      "--- 228.761137962 seconds ---\n",
      "25\n",
      "2078.0\n",
      "--- 220.923898935 seconds ---\n"
     ]
    },
    {
     "name": "stderr",
     "output_type": "stream",
     "text": [
      "/Users/birdbrain/anaconda/lib/python2.7/site-packages/ipykernel/__main__.py:40: VisibleDeprecationWarning: using a non-integer number instead of an integer will result in an error in the future\n"
     ]
    },
    {
     "data": {
      "image/png": "[encoded data removed]",
      "text/plain": [
       "<matplotlib.figure.Figure at 0x11153f7d0>"
      ]
     },
     "metadata": {},
     "output_type": "display_data"
    }
   ],
   "source": [
    "\n",
    "\n",
    "radius = roll_width\n",
    "\n",
    "keypoint_radius = 11\n",
    "keypoint_orientation_bins = 19\n",
    "keypoint_peak_factor = 0.8\n",
    "\n",
    "feature_radius = 20\n",
    "feature_orientation_bins = 12\n",
    "feature_inner_radius_factor = 0.5\n",
    "feature_sigma_divisor = 1.\n",
    "\n",
    "skip = 5\n",
    "start = 1000\n",
    "\n",
    "stats = []\n",
    "num_brackets = 3\n",
    "bracket_factor = 5.\n",
    "\n",
    "\n",
    "# for keypoint_radius in range(5, 31):\n",
    "#     var = keypoint_radius\n",
    "\n",
    "# for keypoint_peak_factor in np.linspace(0.5, 1.0, num=11):\n",
    "#     var = keypoint_peak_factor\n",
    "\n",
    "# for keypoint_orientation_bins in range(10, 31):\n",
    "#     var = keypoint_orientation_bins\n",
    "\n",
    "# for feature_radius in range(5, 31):\n",
    "#     var = feature_radius\n",
    "\n",
    "# for feature_orientation_bins in range(5, 31):\n",
    "#     var = feature_orientation_bins\n",
    "\n",
    "# for feature_inner_radius_factor in np.linspace(0.2, .75, num=12):\n",
    "#     var = feature_inner_radius_factor\n",
    "\n",
    "# for feature_sigma_divisor in np.linspace(0.5, 2., num=7):\n",
    "#     var = feature_sigma_divisor\n",
    "\n",
    "for skip in range(5,26, 5):\n",
    "    var = skip\n",
    "\n",
    "# for start in range(1000, 1050, 5):\n",
    "#     var = start\n",
    "    \n",
    "    print var\n",
    "    \n",
    "    start_time = time.time()\n",
    "    \n",
    "    dist_non_matches = np.zeros(num_brackets)\n",
    "    totalkeypoints = 0.\n",
    "\n",
    "    for t1 in range(start, 1999, 50):\n",
    "\n",
    "        t2 = t1+skip\n",
    "\n",
    "        allFeatures = []\n",
    "\n",
    "        for idx in [t1, t2]:\n",
    "\n",
    "            of, keypoints, bmp = loadData(idx)\n",
    "        #     of, keypoints, bmp = loadData_Lyap(idx)\n",
    "\n",
    "            # Generate additional keypoints based on orientation fields.\n",
    "            allkeypoints = assignOrientations(keypoints, keypoint_radius, of, keypoint_orientation_bins, keypoint_peak_factor, bmp, 0)            \n",
    "            \n",
    "            # Loop through all keypoints and generate feature vectors\n",
    "            for i in range(allkeypoints.shape[0]):\n",
    "\n",
    "                x = allkeypoints[i,0]\n",
    "                y = allkeypoints[i,1]\n",
    "\n",
    "                orientation = allkeypoints[i,8]\n",
    "                rotation = -orientation*(180./keypoint_orientation_bins)\n",
    "\n",
    "                # Only process points within tolerance of boundary\n",
    "                if (((x - centerx)**2 + (y - centery)**2) <= crop_radius**2):\n",
    "                    features = np.concatenate(([idx], allkeypoints[i], [bmp[y, x]], getFeatureVector(of, rotation, x, y, feature_radius, feature_inner_radius_factor, feature_orientation_bins, feature_sigma_divisor, bmp, 0)),axis=0)\n",
    "                    if len(allFeatures) == 0:\n",
    "                        allFeatures = features\n",
    "                    else:\n",
    "                        allFeatures = np.vstack([allFeatures, features])\n",
    "\n",
    "\n",
    "        features1 = allFeatures[(allFeatures[:,0] == t1)]\n",
    "        features2 = allFeatures[(allFeatures[:,0] == t2)]\n",
    "\n",
    "        totalkeypoints = totalkeypoints + features1.shape[0]\n",
    "\n",
    "        distance_stats = []\n",
    "\n",
    "        # Loop through each keypoint in the first image\n",
    "        for i in range(features1.shape[0]):\n",
    "\n",
    "            location = np.asarray(features1[i,1:3])\n",
    "\n",
    "#             # Get the features that are within the radius of the locations\n",
    "#             k2 = spatial.KDTree(features2[:, 1:3])\n",
    "\n",
    "#             # Get 50 nearest neighbors within radius\n",
    "#             nn2 = k2.query(location, k=50, distance_upper_bound=roll_width)\n",
    "\n",
    "#             # Remove infinite matches\n",
    "#             nn2 = nn2[1]\n",
    "#             nn2 = nn2[(nn2<features2.shape[0])]\n",
    "\n",
    "            f1 = features1[i]\n",
    "#             f2 = features2[nn2]\n",
    "            f2 = features2\n",
    "\n",
    "            # Get the Euclidean distance to the location corresponding to the nearest neighbor keypoint in feature space\n",
    "            if f2.shape[0] > 0:\n",
    "                dist = computeDistance(f1, f2)\n",
    "\n",
    "            if i == 0:\n",
    "                distance_stats = np.hstack(([f1[0]],f1[3:9], dist))\n",
    "            else:\n",
    "                distance_stats = np.vstack((distance_stats, np.hstack(([f1[0]],f1[3:9], dist))))\n",
    "\n",
    "        non_matches = np.zeros(num_brackets)\n",
    "        tmp_non_matches = distance_stats[(distance_stats[:,-1] >= bracket_factor)]\n",
    "        for n in range(num_brackets):\n",
    "            non_matches[n] = tmp_non_matches.shape[0]\n",
    "            if (n+1)<num_brackets:\n",
    "                tmp_non_matches = tmp_non_matches[(tmp_non_matches[:,-1] >= bracket_factor*(n+2))]\n",
    "        dist_non_matches = dist_non_matches + non_matches\n",
    "\n",
    "    percent_not_matched = dist_non_matches/totalkeypoints\n",
    "    \n",
    "    print totalkeypoints\n",
    "    \n",
    "    if len(stats) == 0:\n",
    "        stats = np.hstack(([var], percent_not_matched))\n",
    "    else:\n",
    "        stats = np.vstack((stats, np.hstack(([var], percent_not_matched))))\n",
    "        \n",
    "    print(\"--- %s seconds ---\" % (time.time() - start_time))\n",
    "\n",
    "for n in range(num_brackets):\n",
    "    plt.plot(stats[:,0], stats[:,n+1])\n"
   ]
  },
  {
   "cell_type": "code",
   "execution_count": 86,
   "metadata": {
    "collapsed": false
   },
   "outputs": [
    {
     "data": {
      "image/png": "[encoded data removed]",
      "text/plain": [
       "<matplotlib.figure.Figure at 0x111d87d50>"
      ]
     },
     "metadata": {},
     "output_type": "display_data"
    }
   ],
   "source": [
    "lines=['-', '--', '-.']\n",
    "\n",
    "for n in range(num_brackets):\n",
    "    plt.plot(stats[:,0], stats[:,n+1]*100, color='black', linestyle=lines[n]);\n",
    "plt.legend(['5 pixel radius', '10 pixel radius', '15 pixel radius'], loc=2, fontsize=20);\n",
    "plt.tick_params(axis='both', which='major', labelsize=20);\n",
    "plt.tick_params(axis='both', which='minor', labelsize=20);\n",
    "plt.yticks(np.arange(math.floor(min(stats[:,n+1]*100))+3, math.ceil(max(stats[:,n+1]*100))+5, 5));\n",
    "ax = plt.axes()  \n",
    "ax.yaxis.grid() # horizontal lines"
   ]
  },
  {
   "cell_type": "code",
   "execution_count": 41,
   "metadata": {
    "collapsed": false
   },
   "outputs": [
    {
     "name": "stderr",
     "output_type": "stream",
     "text": [
      "/Users/birdbrain/anaconda/lib/python2.7/site-packages/numpy/core/_methods.py:59: RuntimeWarning: Mean of empty slice.\n",
      "  warnings.warn(\"Mean of empty slice.\", RuntimeWarning)\n"
     ]
    },
    {
     "ename": "IndexError",
     "evalue": "invalid index to scalar variable.",
     "output_type": "error",
     "traceback": [
      "\u001b[0;31m---------------------------------------------------------------------------\u001b[0m",
      "\u001b[0;31mIndexError\u001b[0m                                Traceback (most recent call last)",
      "\u001b[0;32m<ipython-input-41-5812b827b9d0>\u001b[0m in \u001b[0;36m<module>\u001b[0;34m()\u001b[0m\n\u001b[0;32m----> 1\u001b[0;31m \u001b[0mstats_average\u001b[0m \u001b[0;34m=\u001b[0m \u001b[0mnp\u001b[0m\u001b[0;34m.\u001b[0m\u001b[0maverage\u001b[0m\u001b[0;34m(\u001b[0m\u001b[0mstats\u001b[0m\u001b[0;34m,\u001b[0m \u001b[0maxis\u001b[0m\u001b[0;34m=\u001b[0m\u001b[0;36m0\u001b[0m\u001b[0;34m)\u001b[0m\u001b[0;34m[\u001b[0m\u001b[0;36m1\u001b[0m\u001b[0;34m:\u001b[0m\u001b[0;34m]\u001b[0m\u001b[0;34m\u001b[0m\u001b[0m\n\u001b[0m\u001b[1;32m      2\u001b[0m \u001b[0;34m\u001b[0m\u001b[0m\n\u001b[1;32m      3\u001b[0m \u001b[0;32mfor\u001b[0m \u001b[0mn\u001b[0m \u001b[0;32min\u001b[0m \u001b[0mrange\u001b[0m\u001b[0;34m(\u001b[0m\u001b[0mnum_brackets\u001b[0m\u001b[0;34m)\u001b[0m\u001b[0;34m:\u001b[0m\u001b[0;34m\u001b[0m\u001b[0m\n\u001b[1;32m      4\u001b[0m     \u001b[0mplt\u001b[0m\u001b[0;34m.\u001b[0m\u001b[0mplot\u001b[0m\u001b[0;34m(\u001b[0m\u001b[0mstats\u001b[0m\u001b[0;34m[\u001b[0m\u001b[0;34m:\u001b[0m\u001b[0;34m,\u001b[0m\u001b[0;36m0\u001b[0m\u001b[0;34m]\u001b[0m\u001b[0;34m,\u001b[0m \u001b[0mstats\u001b[0m\u001b[0;34m[\u001b[0m\u001b[0;34m:\u001b[0m\u001b[0;34m,\u001b[0m\u001b[0mn\u001b[0m\u001b[0;34m+\u001b[0m\u001b[0;36m1\u001b[0m\u001b[0;34m]\u001b[0m\u001b[0;34m)\u001b[0m\u001b[0;34m\u001b[0m\u001b[0m\n\u001b[1;32m      5\u001b[0m     \u001b[0mplt\u001b[0m\u001b[0;34m.\u001b[0m\u001b[0mplot\u001b[0m\u001b[0;34m(\u001b[0m\u001b[0;34m[\u001b[0m\u001b[0;36m1000\u001b[0m\u001b[0;34m,\u001b[0m \u001b[0;36m1045\u001b[0m\u001b[0;34m]\u001b[0m\u001b[0;34m,\u001b[0m \u001b[0;34m[\u001b[0m\u001b[0mstats_average\u001b[0m\u001b[0;34m[\u001b[0m\u001b[0mn\u001b[0m\u001b[0;34m]\u001b[0m\u001b[0;34m,\u001b[0m \u001b[0mstats_average\u001b[0m\u001b[0;34m[\u001b[0m\u001b[0mn\u001b[0m\u001b[0;34m]\u001b[0m\u001b[0;34m]\u001b[0m\u001b[0;34m,\u001b[0m \u001b[0;34m'--'\u001b[0m\u001b[0;34m)\u001b[0m\u001b[0;34m\u001b[0m\u001b[0m\n",
      "\u001b[0;31mIndexError\u001b[0m: invalid index to scalar variable."
     ]
    }
   ],
   "source": [
    "stats_average = np.average(stats, axis=0)[1:]\n",
    "\n",
    "for n in range(num_brackets):\n",
    "    plt.plot(stats[:,0], stats[:,n+1])\n",
    "    plt.plot([1000, 1045], [stats_average[n], stats_average[n]], '--')\n",
    "    \n"
   ]
  },
  {
   "cell_type": "markdown",
   "metadata": {},
   "source": [
    "# Generate the features!"
   ]
  },
  {
   "cell_type": "code",
   "execution_count": 23,
   "metadata": {
    "collapsed": false
   },
   "outputs": [
    {
     "name": "stdout",
     "output_type": "stream",
     "text": [
      "[0 0 0 0 0 0 0 0 0 1 0 0 0 0 0 0 0 0 0]\n",
      "[[  9 110]]\n"
     ]
    }
   ],
   "source": [
    "\n",
    "radius = roll_width\n",
    "\n",
    "keypoint_radius = 11\n",
    "keypoint_orientation_bins = 19\n",
    "keypoint_peak_factor = 0.8\n",
    "\n",
    "feature_radius = 20\n",
    "feature_orientation_bins = 12\n",
    "feature_inner_radius_factor = 0.5\n",
    "feature_sigma_divisor = 1.\n",
    "\n",
    "\n",
    "for idx in range(1000, 1001):\n",
    "\n",
    "    allFeatures = []\n",
    "\n",
    "\n",
    "    of, keypoints, bmp = loadData(idx)\n",
    "#     of, keypoints, bmp = loadData_Lyap(idx)\n",
    "    \n",
    "    orientation_col = keypoints.shape[1]\n",
    "\n",
    "    # Generate additional keypoints based on orientation fields.\n",
    "    allkeypoints = assignOrientations(keypoints, keypoint_radius, of, keypoint_orientation_bins, keypoint_peak_factor, bmp, 0)            \n",
    "\n",
    "    # Loop through all topological and p.h. defects and generate feature vectors\n",
    "    for i in range(allkeypoints.shape[0]):\n",
    "\n",
    "        x = allkeypoints[i,0]\n",
    "        y = allkeypoints[i,1]\n",
    "\n",
    "        orientation = allkeypoints[i,orientation_col]\n",
    "        rotation = -orientation*(180./keypoint_orientation_bins)\n",
    "\n",
    "        # Only process points within tolerance of boundary\n",
    "        if (((x - centerx)**2 + (y - centery)**2) <= crop_radius**2):\n",
    "            features = np.concatenate(([idx], allkeypoints[i], [bmp[y, x]], getFeatureVector(of, rotation, x, y, feature_radius, feature_inner_radius_factor, feature_orientation_bins, feature_sigma_divisor, bmp, 0)),axis=0)\n",
    "            if len(allFeatures) == 0:\n",
    "                allFeatures = features\n",
    "            else:\n",
    "                allFeatures = np.vstack([allFeatures, features])\n",
    "\n",
    "    # Save feature vectors to file\n",
    "    if len(allFeatures.shape)==1:\n",
    "        sOut = ' '.join([str(x) for x in allFeatures.tolist()])\n",
    "        with open(sDir + '/' + (sFeatureVectors % idx), 'w') as f:\n",
    "            f.write(sOut)\n",
    "    else:\n",
    "        np.savetxt(sDir + '/' + (sFeatureVectors % idx),allFeatures,fmt='%d',delimiter=' ')\n",
    "\n",
    "\n"
   ]
  },
  {
   "cell_type": "code",
   "execution_count": 112,
   "metadata": {
    "collapsed": false
   },
   "outputs": [],
   "source": [
    "idx = 1000\n",
    "\n",
    "nbins_local = 8\n",
    "\n",
    "of, keypoints, bmp = loadData(idx)\n",
    "\n",
    "# Generate additional keypoints based on orientation fields.\n",
    "allkeypoints = assignOrientations(keypoints, radius, of, 18)\n",
    "\n",
    "allFeatures = []\n",
    "\n",
    "# Loop through all topological and p.h. defects and generate feature vectors\n",
    "for i in range(keypoints.shape[0]):\n",
    "\n",
    "    x = keypoints[i,0]\n",
    "    y = keypoints[i,1]\n",
    "    \n",
    "    orientation = allkeypoints[i,8]\n",
    "    rotation = -orientation*10\n",
    "\n",
    "    # Only process points within tolerance of boundary\n",
    "    if (((x - centerx)**2 + (y - centery)**2) <= crop_radius**2):\n",
    "        features = np.concatenate((allkeypoints[i], [bmp[y,x]], getFeatureVector(of, rotation, x, y, radius/2, nbins_local)),axis=0)\n",
    "        if len(allFeatures) == 0:\n",
    "            allFeatures = features\n",
    "        else:\n",
    "            allFeatures = np.vstack([allFeatures, features])\n"
   ]
  },
  {
   "cell_type": "code",
   "execution_count": null,
   "metadata": {
    "collapsed": false
   },
   "outputs": [],
   "source": [
    "plt.figure(figsize=(10,10))\n",
    "plt.imshow(bmp)\n",
    "plt.scatter(allFeatures[:,0], allFeatures[:,1], color='black')"
   ]
  },
  {
   "cell_type": "code",
   "execution_count": 10,
   "metadata": {
    "collapsed": false,
    "scrolled": true
   },
   "outputs": [
    {
     "name": "stdout",
     "output_type": "stream",
     "text": [
      "[136 204   1   0   0   0   0   0   6 145  86   4   8   6   4   0   0   0\n",
      "   0   5   2   2   3  10   0   0   0   1   1   3  13   4   0   0   0   1\n",
      "  13   7   1   0   0   0   0  30   3   0   3  11   0   0   0  15   0   0\n",
      "   0  28   2   1   1   8   0   0   1  36   0   1   1  27   7   3   7   3\n",
      "   0   0   0]\n",
      "6 -60\n"
     ]
    }
   ],
   "source": [
    "tmp_radius = radius\n",
    "\n",
    "key = allFeatures[10,:]\n",
    " \n",
    "orientation = key[8]\n",
    "rotation = -orientation*10\n",
    "\n",
    "key_bmp = bmp[(key[1]-tmp_radius):(key[1]+tmp_radius), (key[0]-tmp_radius):(key[0]+tmp_radius)]\n",
    "key_of = of[(key[1]-tmp_radius):(key[1]+tmp_radius), (key[0]-tmp_radius):(key[0]+tmp_radius)]\n",
    "\n",
    "print key\n",
    "print orientation, rotation"
   ]
  },
  {
   "cell_type": "code",
   "execution_count": 11,
   "metadata": {
    "collapsed": false
   },
   "outputs": [
    {
     "data": {
      "text/plain": [
       "<matplotlib.collections.PathCollection at 0x1125288d0>"
      ]
     },
     "execution_count": 11,
     "metadata": {},
     "output_type": "execute_result"
    },
    {
     "data": {
      "image/png": "[encoded data removed]",
      "text/plain": [
       "<matplotlib.figure.Figure at 0x113366e90>"
      ]
     },
     "metadata": {},
     "output_type": "display_data"
    }
   ],
   "source": [
    "transform_key_of = (math.pi*key_of/255.)-math.pi/2.\n",
    "\n",
    "plt.rcParams['figure.figsize'] = (5.0, 5.0)\n",
    "plt.figure()\n",
    "ax = plt.gca()\n",
    "plt.set_cmap('gray')\n",
    "plt.gca().set_axis_off()\n",
    "# im = ax.pcolor(key_bmp);\n",
    "im = ax.pcolor(transform_key_of);\n",
    "\n",
    "plt.plot([tmp_radius - tmp_radius/2., tmp_radius + tmp_radius/2.], [tmp_radius, tmp_radius], color='white', lw=2)\n",
    "plt.plot([tmp_radius, tmp_radius], [tmp_radius - tmp_radius/2., tmp_radius + tmp_radius/2.], color='white', lw=2)\n",
    "\n",
    "# create an axes on the right side of ax. The width of cax will be 5%\n",
    "# of ax and the padding between cax and ax will be fixed at 0.05 inch.\n",
    "divider = make_axes_locatable(ax)\n",
    "cax = divider.append_axes(\"right\", size=\"5%\", pad=0.05)\n",
    "plt.colorbar(im, cax=cax)\n",
    "\n",
    "circle1 = plt.Circle((tmp_radius, tmp_radius), tmp_radius/2., color='white', fill=False, lw=2)\n",
    "ax.add_artist(circle1)\n",
    "\n",
    "circle2 = plt.Circle((tmp_radius, tmp_radius), 0.66*tmp_radius/2., color='white', fill=False, lw=2)\n",
    "ax.add_artist(circle2)\n",
    "\n",
    "\n",
    "plt.scatter(tmp_radius, tmp_radius, color='black')\n",
    "\n"
   ]
  },
  {
   "cell_type": "code",
   "execution_count": 12,
   "metadata": {
    "collapsed": false
   },
   "outputs": [
    {
     "data": {
      "image/png": "[encoded data removed]",
      "text/plain": [
       "<matplotlib.figure.Figure at 0x1111a4490>"
      ]
     },
     "metadata": {},
     "output_type": "display_data"
    }
   ],
   "source": [
    "\n",
    "plt.rcParams['figure.figsize'] = (10.0, 3.0)\n",
    "fig = plt.gcf()\n",
    "ax = plt.gca()\n",
    "ax.set_color_cycle(sns.color_palette(\"coolwarm_r\",8))\n",
    "plt.plot(np.reshape(key[11:], (8,nbins_local)).T, lw=2);\n",
    "\n"
   ]
  },
  {
   "cell_type": "code",
   "execution_count": 14,
   "metadata": {
    "collapsed": false
   },
   "outputs": [
    {
     "name": "stdout",
     "output_type": "stream",
     "text": [
      "-60\n"
     ]
    }
   ],
   "source": [
    "inner_radius = int(radius*0.66)\n",
    "outer_radius = radius\n",
    "orientationfield = of\n",
    "nbins = 8\n",
    "\n",
    "x = key[0]\n",
    "y = key[1]\n",
    "\n",
    "orientation = key[8]\n",
    "rotation = -orientation*10\n",
    "\n",
    "print rotation\n",
    "\n",
    "# INNER CIRCLE\n",
    "# Get circular crop\n",
    "crop = np.zeros((inner_radius*2, inner_radius*2))\n",
    "crop[inner_radius, inner_radius] = 1\n",
    "crop = morphology.binary_dilation(crop, morphology.disk(inner_radius))\n",
    "\n",
    "# Crop orientation field\n",
    "cropped_orientation = orientationfield[(y-inner_radius):(y+inner_radius), (x-inner_radius):(x+inner_radius)]\n",
    "\n",
    "\n",
    "# Rotate cropped orientation field\n",
    "rotated_orientation = ((cropped_orientation.astype(np.float)*(180./255.) + float(rotation))*(255./180.)).astype(np.int)%255\n",
    "\n"
   ]
  },
  {
   "cell_type": "code",
   "execution_count": 15,
   "metadata": {
    "collapsed": false
   },
   "outputs": [
    {
     "data": {
      "image/png": "[encoded data removed]",
      "text/plain": [
       "<matplotlib.figure.Figure at 0x113366a90>"
      ]
     },
     "metadata": {},
     "output_type": "display_data"
    }
   ],
   "source": [
    "plt.subplot(1,2,1)\n",
    "plt.imshow(cropped_orientation);\n",
    "plt.subplot(1,2,2)\n",
    "plt.imshow(rotated_orientation);"
   ]
  },
  {
   "cell_type": "code",
   "execution_count": 16,
   "metadata": {
    "collapsed": false
   },
   "outputs": [
    {
     "name": "stdout",
     "output_type": "stream",
     "text": [
      "[165 260   1   0   0   0   0   0]\n"
     ]
    },
    {
     "data": {
      "image/png": "[encoded data removed]",
      "text/plain": [
       "<matplotlib.figure.Figure at 0x1112d2f90>"
      ]
     },
     "metadata": {},
     "output_type": "display_data"
    },
    {
     "data": {
      "image/png": "[encoded data removed]",
      "text/plain": [
       "<matplotlib.figure.Figure at 0x1142853d0>"
      ]
     },
     "metadata": {},
     "output_type": "display_data"
    }
   ],
   "source": [
    "idx = 1000\n",
    "\n",
    "nbins_local = 8\n",
    "\n",
    "of, keypoints, bmp = loadData(idx)\n",
    "\n",
    "key = keypoints[4,:]\n",
    "print key\n",
    "\n",
    "# Get circular crop\n",
    "crop = np.zeros((radius*2, radius*2))\n",
    "crop[radius, radius] = 1\n",
    "crop = morphology.binary_dilation(crop, morphology.disk(radius))\n",
    "\n",
    "x = key[0]\n",
    "y = key[1]\n",
    "\n",
    "\n",
    "# Crop orientation field\n",
    "cropped_orientation = of[(y-radius):(y+radius), (x-radius):(x+radius)]\n",
    "\n",
    "plt.figure()\n",
    "plt.imshow(cropped_orientation)\n",
    "\n",
    "# Get histogram for the orientation field\n",
    "hist = np.histogram(cropped_orientation[crop==1], bins=nbins, range=(0,256))[0]\n",
    "\n",
    "plt.figure()\n",
    "plt.plot(hist)\n",
    "\n",
    "# Smooth the histogram slightly\n",
    "hist = gaussian_filter(hist, sigma=0.5)\n",
    "maxpeak = max(hist)\n",
    "\n",
    "plt.plot([0,7], [maxpeak, maxpeak])\n",
    "\n",
    "peaks = (hist >= 0.8*float(maxpeak)).astype(np.int)\n",
    "peak_components = measure.label(peaks, background=0)+1\n"
   ]
  },
  {
   "cell_type": "code",
   "execution_count": null,
   "metadata": {
    "collapsed": true
   },
   "outputs": [],
   "source": []
  }
 ],
 "metadata": {
  "anaconda-cloud": {},
  "kernelspec": {
   "display_name": "Python 2",
   "language": "python",
   "name": "python2"
  },
  "language_info": {
   "codemirror_mode": {
    "name": "ipython",
    "version": 2
   },
   "file_extension": ".py",
   "mimetype": "text/x-python",
   "name": "python",
   "nbconvert_exporter": "python",
   "pygments_lexer": "ipython2",
   "version": "2.7.12"
  }
 },
 "nbformat": 4,
 "nbformat_minor": 0
}
