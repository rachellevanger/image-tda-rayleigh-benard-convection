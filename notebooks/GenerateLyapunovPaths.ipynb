{
 "cells": [
  {
   "cell_type": "markdown",
   "metadata": {},
   "source": [
    "# Generate Lyapunov vector paths\n",
    "\n",
    "This notebook generates paths of local maxima of the magnitude of the leading order Lyapunov vector. It uses persistent homology to locate the local maxima that eventually rise above a threshold, then generates the path of that local maximum in the image plane. It goes backward in time and generates a lead-in of some number of frames, maintains the path as long as the local maxima stays above the threshold, then also generates a tail of some number of frames after the local maximum dips below the threshold.\n",
    "\n",
    "**ASSUMPTION:** Each component in the Lyapunov vector magnitude has only a single local maximum, and any that have more than one above the threshold are treated as separate. However, due to the way the persistence points are selected, only one might be selected. Additionally, any local maximum that wobbles in and out of the cutoff region generates a separate path for each time it enters the cutoff region."
   ]
  },
  {
   "cell_type": "code",
   "execution_count": 59,
   "metadata": {
    "collapsed": true
   },
   "outputs": [],
   "source": [
    "import numpy as np\n",
    "import scipy\n",
    "from scipy.cluster import hierarchy as hc\n",
    "import pandas as pd\n",
    "from skimage import morphology\n",
    "from scipy import misc\n",
    "from matplotlib import pyplot as plt\n",
    "import math, time\n",
    "from skimage import measure\n",
    "from scipy import signal\n",
    "from scipy.ndimage.filters import gaussian_filter\n",
    "from PIL import Image\n",
    "from mpl_toolkits.axes_grid1 import make_axes_locatable\n",
    "import seaborn.apionly as sns \n",
    "from scipy import spatial\n",
    "\n",
    "%matplotlib inline  "
   ]
  },
  {
   "cell_type": "markdown",
   "metadata": {},
   "source": [
    "## Set up local environment variables"
   ]
  },
  {
   "cell_type": "code",
   "execution_count": 60,
   "metadata": {
    "collapsed": true
   },
   "outputs": [],
   "source": [
    "sDir = '/Users/birdbrain/Documents/Research/Projects/Schatz/Data/g21chaotic/r4000_2016_11_01_superfast'\n",
    "centerx = 210 # Center-x of circular crop\n",
    "centery = 210 # Center-y of circular crop\n",
    "roll_width = 30 # Width of a single roll\n",
    "crop_radius = 210-roll_width # Radius of circular crop\n",
    "sLyapunovSupPD = 'g21per/pd_sub/%05d_sub_all.csv'\n",
    "sBmp = 'g21per/bmps/%06d.bmp'\n",
    "sLyapunovPaths = 'g21per/lyap_paths/%06d.txt'\n",
    "\n",
    "buffer_frames = 20\n",
    "lyap_death_threshold = 160\n",
    "lyap_birth_threshold = 60"
   ]
  },
  {
   "cell_type": "markdown",
   "metadata": {},
   "source": [
    "## Utility functions"
   ]
  },
  {
   "cell_type": "code",
   "execution_count": 62,
   "metadata": {
    "collapsed": true
   },
   "outputs": [],
   "source": [
    "def loadData(idx):\n",
    "    # Get Lyapunov vector magnitude\n",
    "    lyap_magnitude = misc.imread(sDir + \"/\" + (sBmp % idx))\n",
    "    \n",
    "    # Get Lyapunov superlevel set\n",
    "    lyap_pd = pd.read_csv(sDir + \"/\" + (sLyapunovSupPD % idx))\n",
    "    lyap_pd['idx'] = lyap_pd.index\n",
    "    lyap_pd['path_id'] = 0\n",
    "    lyap_pd['frame'] = idx\n",
    "\n",
    "    return (lyap_magnitude, lyap_pd)"
   ]
  },
  {
   "cell_type": "markdown",
   "metadata": {},
   "source": [
    "## Generate the paths"
   ]
  },
  {
   "cell_type": "code",
   "execution_count": 68,
   "metadata": {
    "collapsed": false
   },
   "outputs": [
    {
     "name": "stdout",
     "output_type": "stream",
     "text": [
      "(732, 12) (720, 12)\n",
      "(1452, 12) (710, 12)\n",
      "(2162, 12) (719, 12)\n",
      "(2881, 12) (712, 12)\n",
      "(3593, 12) (696, 12)\n",
      "(4289, 12) (715, 12)\n",
      "(5004, 12) (713, 12)\n",
      "(5717, 12) (702, 12)\n",
      "(6419, 12) (704, 12)\n",
      "(7123, 12) (707, 12)\n",
      "(7830, 12) (714, 12)\n",
      "(8544, 12) (710, 12)\n",
      "(9254, 12) (720, 12)\n",
      "(9974, 12) (711, 12)\n",
      "(10685, 12) (715, 12)\n",
      "(11400, 12) (711, 12)\n",
      "(12111, 12) (718, 12)\n",
      "(12829, 12) (699, 12)\n",
      "(13528, 12) (710, 12)\n",
      "[   0    0   87  325    0    1   89  315    0    0    0 1000]\n"
     ]
    }
   ],
   "source": [
    "# Beginning and ending indices\n",
    "start_index = 1000\n",
    "end_index = 1030\n",
    "\n",
    "# Distance cutoff radius\n",
    "distance_cutoff = 5\n",
    "\n",
    "# Initialize path counter\n",
    "path_index = 1\n",
    "\n",
    "# Working array for Lyapunov vectors and persistence diagrams\n",
    "lyap_magnitudes = {}\n",
    "lyap_pds = {}\n",
    "\n",
    "# Load the first frames up to the number of buffer frames.\n",
    "for index in range(start_index, start_index+buffer_frames):\n",
    "    lyap_magnitudes[index], lyap_pds[index] = loadData(index)\n",
    "\n",
    "# Build the paths out until you reach the end of the list\n",
    "while index < end_index:\n",
    "    \n",
    "    # Match existing paths forward and eliminate those local maxima from the pool\n",
    "    # Match to closest point that is within the cutoff radius\n",
    "    \n",
    "    # If path is active and the match forward doesn't fall in qualifying region in persistence plane, \n",
    "    # mark the path inactive. Otherwise, keep the path active.\n",
    "    \n",
    "    # If path is inactive, only match forward until the buffer has been exhausted or there is no more\n",
    "    # local maximum within the distance cutoff radius\n",
    "\n",
    "    # Check for new local maxima that qualify as the start of a path\n",
    "    if index < (end_index - buffer_frames):\n",
    "        \n",
    "        # Get the local maxima corresponding to the qualifying region in \n",
    "        # the persistence plane that have not been eliminated\n",
    "        current_pd = lyap_pds[index]\n",
    "        new_paths = current_pd[(current_pd['death'] >= lyap_death_threshold) & \\\n",
    "                               (current_pd['birth'] <= lyap_birth_threshold) & \\\n",
    "                               (current_pd['path_id'] == 0)]\n",
    "        \n",
    "        # Loop through each new path\n",
    "        for index, row in new_paths.iterrows():\n",
    "            \n",
    "            tmp_path = [index, 1, lyap_magnitudes[index][row['d_y'], row['d_x']], row['d_x'], row['d_y']]\n",
    "            \n",
    "            # Go backward in time for any new paths and back-fill the path from the buffer frames\n",
    "            for backtrack in range(1,buffer_frames):\n",
    "                tmpindex = index - backtrack\n",
    "                backtrack_pd = lyap_pds[tmpindex]\n",
    "                \n",
    "                # Match to closest point that is within the cutoff radius\n",
    "                prev_pts = np.vstack((backtrack_pd['d_x'], backtrack_pd['d_y']))\n",
    "                prev_pts = prev_pts.T\n",
    "                distmat = spatial.distance.pdist(np.hstack(([row['d_x'], row['d_y']], prev_pts)))\n",
    "                distmat = spatial.distance.squareform(distmat)\n",
    "                \n",
    "                # Check for match\n",
    "                if np.min(distmat[0,1:]) <= distance_cutoff:\n",
    "                    matched_idx = np.argmin(distmat[0,1:])\n",
    "                    \n",
    "                    tmp_path = [tmpindex, 0, lyap_magnitudes[index][row['d_y'], row['d_x']], row['d_x'], row['d_y']]\n",
    "                    \n",
    "    \n",
    "    # Increment index\n",
    "    index = index + 1\n",
    "    \n",
    "\n"
   ]
  },
  {
   "cell_type": "code",
   "execution_count": 30,
   "metadata": {
    "collapsed": false
   },
   "outputs": [],
   "source": [
    "index = 1010\n",
    "\n",
    "current_pd = lyap_pds[index]"
   ]
  },
  {
   "cell_type": "code",
   "execution_count": 31,
   "metadata": {
    "collapsed": false
   },
   "outputs": [],
   "source": [
    "new_paths = current_pd[(current_pd['death'] >= lyap_death_threshold) & (current_pd['birth'] <= lyap_birth_threshold)]"
   ]
  },
  {
   "cell_type": "code",
   "execution_count": 32,
   "metadata": {
    "collapsed": false
   },
   "outputs": [
    {
     "data": {
      "text/html": [
       "<div>\n",
       "<table border=\"1\" class=\"dataframe\">\n",
       "  <thead>\n",
       "    <tr style=\"text-align: right;\">\n",
       "      <th></th>\n",
       "      <th>dim</th>\n",
       "      <th>birth</th>\n",
       "      <th>b_x</th>\n",
       "      <th>b_y</th>\n",
       "      <th>b_z</th>\n",
       "      <th>death</th>\n",
       "      <th>d_x</th>\n",
       "      <th>d_y</th>\n",
       "      <th>d_z</th>\n",
       "    </tr>\n",
       "  </thead>\n",
       "  <tbody>\n",
       "    <tr>\n",
       "      <th>706</th>\n",
       "      <td>1</td>\n",
       "      <td>0</td>\n",
       "      <td>407</td>\n",
       "      <td>160</td>\n",
       "      <td>0</td>\n",
       "      <td>255</td>\n",
       "      <td>317</td>\n",
       "      <td>136</td>\n",
       "      <td>0</td>\n",
       "    </tr>\n",
       "  </tbody>\n",
       "</table>\n",
       "</div>"
      ],
      "text/plain": [
       "     dim  birth  b_x  b_y  b_z  death  d_x  d_y  d_z\n",
       "706    1      0  407  160    0    255  317  136    0"
      ]
     },
     "execution_count": 32,
     "metadata": {},
     "output_type": "execute_result"
    }
   ],
   "source": [
    "new_paths"
   ]
  },
  {
   "cell_type": "code",
   "execution_count": 33,
   "metadata": {
    "collapsed": false
   },
   "outputs": [
    {
     "name": "stdout",
     "output_type": "stream",
     "text": [
      "dim        1\n",
      "birth      0\n",
      "b_x      407\n",
      "b_y      160\n",
      "b_z        0\n",
      "death    255\n",
      "d_x      317\n",
      "d_y      136\n",
      "d_z        0\n",
      "Name: 706, dtype: int64\n"
     ]
    }
   ],
   "source": [
    "for idx, row in new_paths.iterrows():\n",
    "    print row"
   ]
  },
  {
   "cell_type": "code",
   "execution_count": 34,
   "metadata": {
    "collapsed": false
   },
   "outputs": [],
   "source": [
    "backtrack_pd = lyap_pds[index - 1]"
   ]
  },
  {
   "cell_type": "code",
   "execution_count": 42,
   "metadata": {
    "collapsed": false
   },
   "outputs": [],
   "source": [
    "prev_pts = np.vstack((backtrack_pd['d_x'], backtrack_pd['d_y']))\n",
    "prev_pts = prev_pts.T"
   ]
  },
  {
   "cell_type": "code",
   "execution_count": 48,
   "metadata": {
    "collapsed": false
   },
   "outputs": [
    {
     "data": {
      "text/plain": [
       "[317, 136]"
      ]
     },
     "execution_count": 48,
     "metadata": {},
     "output_type": "execute_result"
    }
   ],
   "source": [
    "[row['d_x'], row['d_y']]"
   ]
  },
  {
   "cell_type": "code",
   "execution_count": 49,
   "metadata": {
    "collapsed": false
   },
   "outputs": [],
   "source": [
    "distmat = spatial.distance.pdist(np.vstack(([row['d_x'], row['d_y']], prev_pts)))\n",
    "distmat = spatial.distance.squareform(distmat)"
   ]
  },
  {
   "cell_type": "code",
   "execution_count": 57,
   "metadata": {
    "collapsed": false
   },
   "outputs": [
    {
     "name": "stdout",
     "output_type": "stream",
     "text": [
      "0.0\n",
      "[317 136]\n"
     ]
    }
   ],
   "source": [
    "print np.min(distmat[0,1:])\n",
    "print prev_pts[np.argmin(distmat[0,1:])]"
   ]
  },
  {
   "cell_type": "code",
   "execution_count": null,
   "metadata": {
    "collapsed": true
   },
   "outputs": [],
   "source": []
  }
 ],
 "metadata": {
  "kernelspec": {
   "display_name": "Python 2",
   "language": "python",
   "name": "python2"
  },
  "language_info": {
   "codemirror_mode": {
    "name": "ipython",
    "version": 2
   },
   "file_extension": ".py",
   "mimetype": "text/x-python",
   "name": "python",
   "nbconvert_exporter": "python",
   "pygments_lexer": "ipython2",
   "version": "2.7.12"
  }
 },
 "nbformat": 4,
 "nbformat_minor": 0
}
