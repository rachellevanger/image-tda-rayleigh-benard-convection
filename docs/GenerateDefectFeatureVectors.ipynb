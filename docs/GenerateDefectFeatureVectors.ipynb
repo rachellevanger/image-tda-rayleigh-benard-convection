{
 "cells": [
  {
   "cell_type": "markdown",
   "metadata": {},
   "source": [
    "# Generate feature vectors for defect classification\n",
    "\n",
    "This notebook generates feature vectors to be used for clustering local patterns in Rayleigh-Benard Convection. We use a variant of HOGS (histogram of gradients) based on the orientation field of the temperature field of Rayleigh-Benard Convection in addition to categorical variables describing the topological and persistent homology defect counts."
   ]
  },
  {
   "cell_type": "code",
   "execution_count": 82,
   "metadata": {
    "collapsed": true
   },
   "outputs": [],
   "source": [
    "import numpy as np\n",
    "import scipy\n",
    "from scipy.cluster import hierarchy as hc\n",
    "import pandas as pd\n",
    "from skimage import morphology\n",
    "from scipy import misc\n",
    "from matplotlib import pyplot as plt\n",
    "import math, time\n",
    "from skimage import measure\n",
    "\n",
    "%matplotlib inline  "
   ]
  },
  {
   "cell_type": "markdown",
   "metadata": {},
   "source": [
    "## Set up local environment variables"
   ]
  },
  {
   "cell_type": "code",
   "execution_count": 88,
   "metadata": {
    "collapsed": true
   },
   "outputs": [],
   "source": [
    "sDir = '/Users/birdbrain/Documents/Research/Projects/Schatz/Data/g21chaotic/r4000_2016_11_01_superfast/g21flow'\n",
    "centerx = 210 # Center-x of circular crop\n",
    "centery = 210 # Center-y of circular crop\n",
    "crop_radius = 175 # Radius of circular crop\n",
    "roll_width = 20 # Width of a single roll\n",
    "sOrientation = 'orientation_field_0_5/%06d.bmp'\n",
    "sOrientation_smooth = 'orientation_field_2/%06d.bmp'\n",
    "sPatternData = 'pattern_data/%06d_matches.csv'\n",
    "sSingularPoints = 'singular_points_0_5/%06d.txt'\n",
    "sSingularPoints_smooth = 'singular_points_2/%06d.txt'"
   ]
  },
  {
   "cell_type": "markdown",
   "metadata": {},
   "source": [
    "## Set up variables for generating the feature vectors"
   ]
  },
  {
   "cell_type": "code",
   "execution_count": 84,
   "metadata": {
    "collapsed": false
   },
   "outputs": [],
   "source": [
    "radius = roll_width"
   ]
  },
  {
   "cell_type": "markdown",
   "metadata": {},
   "source": [
    "## Utility functions"
   ]
  },
  {
   "cell_type": "code",
   "execution_count": 85,
   "metadata": {
    "collapsed": true
   },
   "outputs": [],
   "source": [
    "def loadData(idx):\n",
    "    # Get orientation field\n",
    "    of = misc.imread(sDir + \"/\" + (sOrientation % idx))\n",
    "    \n",
    "    # Persistent homology defects: pinch=1, h1=2\n",
    "    ph_features = pd.read_csv(sDir + \"/\" + (sPatternData % idx))\n",
    "\n",
    "    # Generate persistent homology defect matrix\n",
    "    ph_pinches = ph_features.loc[(ph_features['match_type']=='pinch_upper') | (ph_features['match_type']=='pinch_lower')][['center_x','center_y']]\n",
    "    ph_pinches = ph_pinches.astype(np.int)\n",
    "\n",
    "    ph_h1 = ph_features.loc[(ph_features['match_type']=='ring_other') | (ph_features['match_type']=='ring_upper') | (ph_features['match_type']=='ring_lower') | (ph_features['match_type']=='plume_other') | (ph_features['match_type']=='plume_upper') | (ph_features['match_type']=='plume_lower')][['center_x','center_y']]\n",
    "    ph_h1 = ph_h1.astype(np.int)\n",
    "\n",
    "    ph_defects = np.zeros(of.shape)\n",
    "    ph_defects[ph_pinches['center_y'], ph_pinches['center_x']] = 1\n",
    "    ph_defects[ph_h1['center_y'], ph_h1['center_x']] = 2\n",
    "\n",
    "    # Topological defects\n",
    "    td = pd.read_csv(sDir + \"/\" + (sSingularPoints % idx), sep=' ', names=['x', 'y', 'type'])\n",
    "\n",
    "    # Convert to matrix form\n",
    "    td_defects = np.histogram2d(td['x'], td['y'], bins=[of.shape[0],of.shape[1]], weights=td['type'])[0]\n",
    "    \n",
    "    return (of, ph_defects, td_defects)\n"
   ]
  },
  {
   "cell_type": "code",
   "execution_count": 86,
   "metadata": {
    "collapsed": true
   },
   "outputs": [],
   "source": [
    "def getFeatureVector(orientationfield, topological_defects, ph_defects, x, y, radius):\n",
    "    \"\"\"\n",
    "    Takes in a single local patch from the orientation field and generates a feature from it.\n",
    "    (0,255) = histogram of orientations\n",
    "    (256,259) = counts of topological defects: +1,-1,+2,-2\n",
    "    (260,261) = counts of persistent homology defects: pinch-offs, h1 generators\n",
    "    \"\"\"\n",
    "    # Get circular crop\n",
    "    crop = np.zeros((radius*2, radius*2))\n",
    "    crop[radius, radius] = 1\n",
    "    crop = morphology.binary_dilation(crop, morphology.disk(radius))\n",
    "    \n",
    "    # Crop orientation field and get historgram\n",
    "    cropped_orientation = orientationfield[(y-radius):(y+radius), (x-radius):(x+radius)]\n",
    "    hist = np.histogram(cropped_orientation[crop], bins=range(256))[0]\n",
    "    \n",
    "    # Get max histogram value and re-center at 0 for this value\n",
    "    maxloc = np.argmax(hist)\n",
    "    hist_orientations = np.concatenate((hist, hist),axis=0)[maxloc:(maxloc+255)]\n",
    "        \n",
    "    # Get topological defects from circular region\n",
    "    cropped_td = topological_defects[(y-radius):(y+radius), (x-radius):(x+radius)][crop]\n",
    "    cropped_td = cropped_td[cropped_td <> 0]\n",
    "    hist_td_defects = np.histogram(cropped_td, bins=[-2,-1,0,1,2,3])[0]\n",
    "    hist_td_defects = hist_td_defects[[0,1,3,4]]\n",
    "    \n",
    "    # Get persistent homology defects in the circular region\n",
    "    cropped_phd = ph_defects[(y-radius):(y+radius), (x-radius):(x+radius)][crop]\n",
    "    hist_ph_defects = np.histogram(cropped_phd,bins=[1,2,3])[0]\n",
    "    \n",
    "    # Return feature vector\n",
    "    features = np.concatenate((hist_orientations, hist_td_defects, hist_ph_defects), axis=0)\n",
    "    return features\n",
    "    "
   ]
  },
  {
   "cell_type": "markdown",
   "metadata": {},
   "source": [
    "## Get the feature vectors"
   ]
  },
  {
   "cell_type": "code",
   "execution_count": 87,
   "metadata": {
    "collapsed": false
   },
   "outputs": [],
   "source": [
    "for idx in range(1000,1999,50):\n",
    "\n",
    "    lag = 5\n",
    "\n",
    "    of1, ph_defects1, td_defects1 = loadData(idx)\n",
    "    of2, ph_defects2, td_defects2 = loadData(idx+lag)\n",
    "\n",
    "    allFeatures = []\n",
    "\n",
    "    # Loop through all topological and p.h. defects and generate feature vectors\n",
    "    coordsx, coordsy = np.where(td_defects1 <> 0)\n",
    "    coords = np.column_stack((coordsx, coordsy))\n",
    "    \n",
    "    tmp_coordsx, tmp_coordsy = np.where(td_defects2 <> 0)\n",
    "    tmp_coords = np.column_stack((tmp_coordsx, tmp_coordsy))\n",
    "    coords = np.concatenate((coords, tmp_coords))\n",
    "    \n",
    "    tmp_coordsx, tmp_coordsy = np.where(ph_defects1 <> 0)\n",
    "    tmp_coords = np.column_stack((tmp_coordsx, tmp_coordsy))\n",
    "    coords = np.concatenate((coords, tmp_coords))\n",
    "    \n",
    "    tmp_coordsx, tmp_coordsy = np.where(ph_defects2 <> 0)\n",
    "    tmp_coords = np.column_stack((tmp_coordsx, tmp_coordsy))\n",
    "    coords = np.concatenate((coords, tmp_coords))\n",
    "    \n",
    "    tuple_coords = [tuple(row) for row in coords]\n",
    "    unique_coords = np.unique(tuple_coords)\n",
    "    \n",
    "    sorted_idx = np.lexsort(coords.T)\n",
    "    sorted_data =  coords[sorted_idx,:]\n",
    "    row_mask = np.append([True],np.any(np.diff(sorted_data,axis=0),1))\n",
    "    unique_coords = sorted_data[row_mask]\n",
    "    \n",
    "    for i in range(unique_coords.shape[0]):\n",
    "        x = unique_coords[i][0]\n",
    "        y = unique_coords[i][1]\n",
    "        if (((x - centerx)**2 + (y - centery)**2) <= crop_radius**2):\n",
    "            features = np.concatenate(([idx, x, y], getFeatureVector(of1, td_defects1, ph_defects1, x, y, radius), getFeatureVector(of2, td_defects2, ph_defects2, x, y, radius)),axis=0)\n",
    "            if len(allFeatures) == 0:\n",
    "                allFeatures = features\n",
    "            else:\n",
    "                allFeatures = np.vstack([allFeatures, features])\n",
    "\n",
    "\n",
    "    # Save feature vectors to file\n",
    "    np.savetxt(sDir + '/' + ('feature_vectors/%06d_%d.txt' % (idx, lag)),allFeatures,fmt='%d',delimiter=' ')"
   ]
  },
  {
   "cell_type": "code",
   "execution_count": 71,
   "metadata": {
    "collapsed": false
   },
   "outputs": [
    {
     "data": {
      "text/plain": [
       "array([299,  18])"
      ]
     },
     "execution_count": 71,
     "metadata": {},
     "output_type": "execute_result"
    }
   ],
   "source": []
  },
  {
   "cell_type": "code",
   "execution_count": 91,
   "metadata": {
    "collapsed": false
   },
   "outputs": [],
   "source": [
    "n = 30\n"
   ]
  },
  {
   "cell_type": "code",
   "execution_count": 92,
   "metadata": {
    "collapsed": false
   },
   "outputs": [
    {
     "data": {
      "text/plain": [
       "[<matplotlib.lines.Line2D at 0x10cfb3a50>]"
      ]
     },
     "execution_count": 92,
     "metadata": {},
     "output_type": "execute_result"
    },
    {
     "data": {
      "image/png": "[encoded data removed]",
      "text/plain": [
       "<matplotlib.figure.Figure at 0x10fbb7150>"
      ]
     },
     "metadata": {},
     "output_type": "display_data"
    }
   ],
   "source": [
    "plt.plot(allFeatures[n][3:])"
   ]
  },
  {
   "cell_type": "code",
   "execution_count": 93,
   "metadata": {
    "collapsed": false
   },
   "outputs": [
    {
     "data": {
      "text/plain": [
       "<matplotlib.collections.PolyCollection at 0x10d1b5b10>"
      ]
     },
     "execution_count": 93,
     "metadata": {},
     "output_type": "execute_result"
    },
    {
     "data": {
      "image/png": "[encoded data removed]",
      "text/plain": [
       "<matplotlib.figure.Figure at 0x10d070050>"
      ]
     },
     "metadata": {},
     "output_type": "display_data"
    }
   ],
   "source": [
    "x = allFeatures[n][1]\n",
    "y = allFeatures[n][2]\n",
    "plt.pcolor(of1[(y-radius):(y+radius), (x-radius):(x+radius)])"
   ]
  },
  {
   "cell_type": "code",
   "execution_count": 94,
   "metadata": {
    "collapsed": false
   },
   "outputs": [
    {
     "data": {
      "text/plain": [
       "<matplotlib.collections.PolyCollection at 0x10c7cd050>"
      ]
     },
     "execution_count": 94,
     "metadata": {},
     "output_type": "execute_result"
    },
    {
     "data": {
      "image/png": "[encoded data removed]",
      "text/plain": [
       "<matplotlib.figure.Figure at 0x10d1999d0>"
      ]
     },
     "metadata": {},
     "output_type": "display_data"
    }
   ],
   "source": [
    "\n",
    "plt.pcolor(of2[(y-radius):(y+radius), (x-radius):(x+radius)])"
   ]
  }
 ],
 "metadata": {
  "kernelspec": {
   "display_name": "Python 2",
   "language": "python",
   "name": "python2"
  },
  "language_info": {
   "codemirror_mode": {
    "name": "ipython",
    "version": 2
   },
   "file_extension": ".py",
   "mimetype": "text/x-python",
   "name": "python",
   "nbconvert_exporter": "python",
   "pygments_lexer": "ipython2",
   "version": "2.7.12"
  }
 },
 "nbformat": 4,
 "nbformat_minor": 0
}
