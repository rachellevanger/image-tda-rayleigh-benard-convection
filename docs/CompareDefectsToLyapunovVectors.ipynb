{
 "cells": [
  {
   "cell_type": "markdown",
   "metadata": {},
   "source": [
    "# Compare defect classifications to Lyapunov vectors\n",
    "\n",
    "In this notebook we systematically compare classified features to the Lyapunov vector data. The goal is to determine which regions of high magnitude in the Lyapunov vector correspond to which feature classifications"
   ]
  },
  {
   "cell_type": "code",
   "execution_count": 1,
   "metadata": {
    "collapsed": true
   },
   "outputs": [],
   "source": [
    "import numpy as np\n",
    "import scipy\n",
    "from scipy.cluster import hierarchy as hc\n",
    "import pandas as pd\n",
    "from skimage import morphology\n",
    "from scipy import misc\n",
    "from matplotlib import pyplot as plt\n",
    "import math, time\n",
    "from skimage import measure\n",
    "\n",
    "%matplotlib inline  "
   ]
  },
  {
   "cell_type": "code",
   "execution_count": 2,
   "metadata": {
    "collapsed": true
   },
   "outputs": [],
   "source": [
    "## Set user-defined variables\n",
    "sdir = '/Users/birdbrain/Documents/Research/Projects/Schatz/Data/g21chaotic/r4000_2016_11_01_superfast'\n",
    "classification_file = 'g21flow/elementary_classifications/%06d.bmp'\n",
    "lyapunov_file = 'g21per/bmps/%06d.bmp'"
   ]
  },
  {
   "cell_type": "markdown",
   "metadata": {},
   "source": [
    "## Compare parallel roll regions to Lyapunov vectors\n",
    "\n",
    "As a first step, we determine the relationship between the parallel roll regions and the Lyapunov vectors. Our expectation is that the regions of high magnitude in the Lyapunov vector will not be located in the parallel roll regions."
   ]
  },
  {
   "cell_type": "code",
   "execution_count": 54,
   "metadata": {
    "collapsed": false
   },
   "outputs": [],
   "source": [
    "index_range = range(1000,1999)\n",
    "lyap_max = np.zeros(len(index_range))\n",
    "\n",
    "for i in range(len(index_range)):\n",
    "    \n",
    "    idx = index_range[i]\n",
    "    \n",
    "    ## Load in data\n",
    "    classification = misc.imread(sdir + \"/\" + (classification_file % idx))\n",
    "    lyapunov = misc.imread(sdir + \"/\" + (lyapunov_file % idx))\n",
    "    \n",
    "    lyap_max[i] = max(lyapunov[[classification == 255]])"
   ]
  },
  {
   "cell_type": "code",
   "execution_count": 55,
   "metadata": {
    "collapsed": false
   },
   "outputs": [
    {
     "data": {
      "text/plain": [
       "[<matplotlib.lines.Line2D at 0x10b8098d0>]"
      ]
     },
     "execution_count": 55,
     "metadata": {},
     "output_type": "execute_result"
    },
    {
     "data": {
      "image/png": "[encoded data removed]",
      "text/plain": [
       "<matplotlib.figure.Figure at 0x10b4b07d0>"
      ]
     },
     "metadata": {},
     "output_type": "display_data"
    }
   ],
   "source": [
    "plt.plot(index_range,lyap_max)"
   ]
  },
  {
   "cell_type": "code",
   "execution_count": 65,
   "metadata": {
    "collapsed": false
   },
   "outputs": [
    {
     "data": {
      "text/plain": [
       "157.0"
      ]
     },
     "execution_count": 65,
     "metadata": {},
     "output_type": "execute_result"
    }
   ],
   "source": [
    "max(lyap_max)"
   ]
  },
  {
   "cell_type": "code",
   "execution_count": null,
   "metadata": {
    "collapsed": true
   },
   "outputs": [],
   "source": []
  }
 ],
 "metadata": {
  "kernelspec": {
   "display_name": "Python 2",
   "language": "python",
   "name": "python2"
  },
  "language_info": {
   "codemirror_mode": {
    "name": "ipython",
    "version": 2
   },
   "file_extension": ".py",
   "mimetype": "text/x-python",
   "name": "python",
   "nbconvert_exporter": "python",
   "pygments_lexer": "ipython2",
   "version": "2.7.12"
  }
 },
 "nbformat": 4,
 "nbformat_minor": 0
}
