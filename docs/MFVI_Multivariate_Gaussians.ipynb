{
 "cells": [
  {
   "cell_type": "markdown",
   "metadata": {},
   "source": [
    "# Mean-field Variational Inference for a Mixture of Gaussians"
   ]
  },
  {
   "cell_type": "markdown",
   "metadata": {},
   "source": [
    "We implement mean-field variational inference for detecting the centers of a specified number of clusters based on a Gaussian mixture model. Work done by Rachel Levanger for Fall 2016 Foundation of Graphical Models at Columbia University, HW #3."
   ]
  },
  {
   "cell_type": "code",
   "execution_count": 1,
   "metadata": {
    "collapsed": true
   },
   "outputs": [],
   "source": [
    "import math\n",
    "import numpy as np\n",
    "from scipy.stats import multivariate_normal\n",
    "import pandas as pd\n",
    "from scipy import misc\n",
    "from scipy import spatial\n",
    "\n",
    "import matplotlib\n",
    "import matplotlib.pyplot as plt\n",
    "\n",
    "%matplotlib inline"
   ]
  },
  {
   "cell_type": "markdown",
   "metadata": {},
   "source": [
    "## Some functions we'll use later"
   ]
  },
  {
   "cell_type": "code",
   "execution_count": 2,
   "metadata": {
    "collapsed": true
   },
   "outputs": [],
   "source": [
    "# Randomly choose num_clusters points according to N(0,variance*I) distribution in R^dims\n",
    "def get_cluster_means(num_clusters, variance, dims):\n",
    "    multi_v_sample = np.random.multivariate_normal(np.zeros(dims), variance*np.identity(dims) , num_clusters).T\n",
    "    return multi_v_sample"
   ]
  },
  {
   "cell_type": "markdown",
   "metadata": {},
   "source": [
    "## Import the dataset\n",
    "\n",
    "We use the feature vectors generated from the topological data from the mid-plane temperature field of Rayleigh-Benard Convection."
   ]
  },
  {
   "cell_type": "code",
   "execution_count": 3,
   "metadata": {
    "collapsed": false
   },
   "outputs": [],
   "source": [
    "sDir = '/Users/birdbrain/Documents/Research/Projects/Schatz/Data/g21chaotic/r4000_2016_11_01_superfast/g21flow'\n",
    "sFeatures = 'feature_vectors/%06d.txt'\n",
    "sOrientation = 'orientation_field_0_5/%06d.bmp'\n",
    "sTemperature = 'bmps/%06d.bmp'\n"
   ]
  },
  {
   "cell_type": "code",
   "execution_count": 16,
   "metadata": {
    "collapsed": false
   },
   "outputs": [],
   "source": [
    "allFeatures = []\n",
    "\n",
    "for idx in range(1000, 1999, 50):\n",
    "    features = pd.read_csv(sDir + \"/\" + (sFeatures % idx), sep=' ', header=None)\n",
    "    features = np.asarray(features)\n",
    "    features = np.concatenate((idx*np.ones((features.shape[0],1)), features), axis=1)\n",
    "    if len(allFeatures) == 0:\n",
    "        allFeatures = features\n",
    "    else:\n",
    "        allFeatures = np.append(allFeatures, features, axis=0)\n"
   ]
  },
  {
   "cell_type": "code",
   "execution_count": 5,
   "metadata": {
    "collapsed": false
   },
   "outputs": [],
   "source": [
    "d = 6\n",
    "myFeatures = allFeatures[(allFeatures[:,d]==1), :]"
   ]
  },
  {
   "cell_type": "code",
   "execution_count": 6,
   "metadata": {
    "collapsed": false
   },
   "outputs": [
    {
     "name": "stdout",
     "output_type": "stream",
     "text": [
      "[  3.   2.   0.   3.   0.   7.   2.   5.   0.   0.   0.   0.   0.  20.   2.\n",
      "   0.   0.   0.   0.   0.   0.   0.   0.  22.   1.   0.   0.   0.   0.   3.\n",
      "   6.  12.   3.  23.   8.   0.   0.   4.   4.   5.   0.   0.   0.   0.   7.\n",
      "  34.   6.   0.  31.   0.   0.   0.   0.   0.   0.  16.   0.   0.   0.   0.\n",
      "   0.   0.  18.  29.]\n"
     ]
    }
   ],
   "source": [
    "X = myFeatures[:, 12:]\n",
    "\n",
    "# X = np.hstack((X[:,0:2],X[:,2:]*10))\n",
    "\n",
    "N = X.shape[0]\n",
    "dim = X.shape[1]\n",
    "\n",
    "print X[0,:]"
   ]
  },
  {
   "cell_type": "markdown",
   "metadata": {},
   "source": [
    "## Plot a projection of the data"
   ]
  },
  {
   "cell_type": "code",
   "execution_count": 7,
   "metadata": {
    "collapsed": false
   },
   "outputs": [
    {
     "data": {
      "text/plain": [
       "(0.0, 25.0, 0.0, 25.0)"
      ]
     },
     "execution_count": 7,
     "metadata": {},
     "output_type": "execute_result"
    },
    {
     "data": {
      "image/png": "[encoded data removed]",
      "text/plain": [
       "<matplotlib.figure.Figure at 0x10e192b90>"
      ]
     },
     "metadata": {},
     "output_type": "display_data"
    }
   ],
   "source": [
    "# Plot the means\n",
    "plt.rcParams['figure.figsize'] = (3.0, 3.0)\n",
    "plt.plot(X[:,0], X[:,1], 'x', markerfacecolor='blue')\n",
    "plt.axis('equal')"
   ]
  },
  {
   "cell_type": "markdown",
   "metadata": {},
   "source": [
    "## Implement mean-field variational inference"
   ]
  },
  {
   "cell_type": "markdown",
   "metadata": {},
   "source": [
    "### Initialize the algorithm"
   ]
  },
  {
   "cell_type": "code",
   "execution_count": 8,
   "metadata": {
    "collapsed": false
   },
   "outputs": [],
   "source": [
    "# Set the minimum number of iterations\n",
    "iterations = 21\n",
    "K = 20\n",
    "\n",
    "# Set the prior parameters\n",
    "p_sigma = 1. # Variance of cluster of means\n",
    "\n",
    "# Initialize the variational parameters\n",
    "vi_m = np.zeros((iterations, K, dim)) # Cluster means, initialized to random points.\n",
    "vi_m[0,:,:] = get_cluster_means(K, math.pow(p_sigma,2), dim).T\n",
    "vi_m[0,:,:] = vi_m[0,:,:] + np.mean(X, axis=0)\n",
    "\n",
    "vi_s_2 = np.zeros((iterations, K)) # Cluster variances, first initialized to one.\n",
    "vi_s_2[0,:] = np.ones(K)\n",
    "\n",
    "vi_phi = np.zeros((iterations, N, K)) # Assignment distributions, first initialized to categorical uniform\n",
    "vi_phi[0,:,:] = np.ones((N,K))*(1./K)\n",
    "\n",
    "# ELBO table\n",
    "ELBO = np.zeros(iterations-1)"
   ]
  },
  {
   "cell_type": "markdown",
   "metadata": {},
   "source": [
    "### Iterate the CAVI algorithm to get variational estimator for posterior"
   ]
  },
  {
   "cell_type": "code",
   "execution_count": 9,
   "metadata": {
    "collapsed": false
   },
   "outputs": [
    {
     "name": "stdout",
     "output_type": "stream",
     "text": [
      "5\n",
      "10\n",
      "15\n",
      "20\n"
     ]
    }
   ],
   "source": [
    "# Iterate the CAVI algorithm\n",
    "for t in range(1,iterations):\n",
    "    \n",
    "    if t%5==0:\n",
    "        print t\n",
    "    \n",
    "    # Update the vi_phi: posterior assignment distributions\n",
    "    for n in range(N):\n",
    "        \n",
    "        for k in range(K):\n",
    "            log_sum_exp_argument = [np.dot(X[n],vi_m[t-1,j,:]) - (dim*vi_s_2[t-1,j] + np.dot(vi_m[t-1,j,:],vi_m[t-1,j,:]))/2. for j in range(K)]\n",
    "            max_log_sum_exp = max(log_sum_exp_argument)\n",
    "            log_sum_exp_sum = sum([math.exp(x - max_log_sum_exp) for x in log_sum_exp_argument])\n",
    "            vi_phi_log = np.dot(X[n],vi_m[t-1,k,:]) - (dim*vi_s_2[t-1,k] + np.dot(vi_m[t-1,k],vi_m[t-1,k]))/2. - max_log_sum_exp - math.log(log_sum_exp_sum)\n",
    "            vi_phi[t,n,k] = math.exp(vi_phi_log)\n",
    "        \n",
    "    # Update the vi_m and vi_s_2: posterior means and variances \n",
    "    vi_m[t,:,:] = vi_m[t-1,:,:]\n",
    "    for k in range(K):\n",
    "        \n",
    "        sum_phi_x = np.zeros(dim)\n",
    "        for n in range(N):\n",
    "            sum_phi_x = sum_phi_x + vi_phi[t,n,k]*X[n]\n",
    "        vi_m[t,k] = (sum_phi_x)/(p_sigma**(-2) + sum(vi_phi[t,:,k]))\n",
    "        vi_s_2[t,k] = 1./(p_sigma**(-2) + sum(vi_phi[t,:,k]))\n",
    "    \n",
    "    # Update the ELBO\n",
    "    for k in range(K):\n",
    "        ELBO[t-1] = ELBO[t-1] + (-1./2.)*math.log(2*math.pi*(p_sigma**2)) - (np.dot(vi_m[t,k],vi_m[t,k]) + dim*vi_s_2[t,k])/(2.*p_sigma**2)\n",
    "        ELBO[t-1] = ELBO[t-1] + (1./2.)*math.log(2*math.pi*vi_s_2[t,k]) + (1./2.)\n",
    "    for n in range(N):\n",
    "        ELBO[t-1] = ELBO[t-1] + math.log(1./K)\n",
    "        ELBO[t-1] = ELBO[t-1] - sum([phi*math.log(phi) for phi in vi_phi[t,n,vi_phi[t,n,:] > 0]])\n",
    "        ELBO[t-1] = ELBO[t-1] + sum([vi_phi[t,n,k]*((-1./2.)*math.log(2*math.pi) - np.dot(X[n],X[n])/2. + np.dot(X[n],vi_m[t,k]) - (dim*vi_s_2[t,k] + np.dot(vi_m[t,k],vi_m[t,k]))/2.) for k in range(K)])\n",
    "    "
   ]
  },
  {
   "cell_type": "markdown",
   "metadata": {},
   "source": [
    "## Plot the results!"
   ]
  },
  {
   "cell_type": "code",
   "execution_count": 10,
   "metadata": {
    "collapsed": false
   },
   "outputs": [],
   "source": [
    "# Get the expectations of the categories for each data point\n",
    "z = np.zeros(N)\n",
    "\n",
    "for n in range(N):\n",
    "#     z[n] = np.random.multinomial(1,vi_phi[iterations-1,n,:]).nonzero()[0][0]\n",
    "    z[n] = np.argmax(vi_phi[iterations-1,n,:])\n",
    "    \n",
    "z = z.astype(np.int)\n"
   ]
  },
  {
   "cell_type": "code",
   "execution_count": 11,
   "metadata": {
    "collapsed": false
   },
   "outputs": [
    {
     "data": {
      "text/plain": [
       "(-5.0, 25.0, -5.0, 25.0)"
      ]
     },
     "execution_count": 11,
     "metadata": {},
     "output_type": "execute_result"
    },
    {
     "data": {
      "image/png": "[encoded data removed]",
      "text/plain": [
       "<matplotlib.figure.Figure at 0x10e2a7110>"
      ]
     },
     "metadata": {},
     "output_type": "display_data"
    }
   ],
   "source": [
    "plt.rcParams['figure.figsize'] = (3.0, 3.0)\n",
    "\n",
    "fig,ax = plt.subplots(1)\n",
    "ax.set_aspect('equal')\n",
    "\n",
    "color=['cyan', 'blue', 'magenta', 'green', 'red', 'yellow', 'black']\n",
    "marker=['o','x','+','v','^']\n",
    "\n",
    "\n",
    "# Plot the datapoints with color chosen according to variational distribution\n",
    "for n in range(N):\n",
    "    ax.plot(X[n,0], X[n,1], 'x', marker=marker[z[n] % len(marker)], color=color[z[n] % len(color)])\n",
    "\n",
    "# Plot the mean history for the variational inference algorithm\n",
    "for k in range(K):\n",
    "    ax.plot(vi_m[:,k,0],vi_m[:,k,1], color=color[k % len(color)])\n",
    "    circle = matplotlib.patches.Ellipse([vi_m[iterations-1,k,0], vi_m[iterations-1,k,1]], 2.*np.sqrt(vi_s_2[iterations-1,k]), 2.*np.sqrt(vi_s_2[iterations-1,k]), alpha=0.25, color=color[k % len(color)])\n",
    "    ax.add_patch(circle)\n",
    "\n",
    "ax.axis('equal')\n"
   ]
  },
  {
   "cell_type": "code",
   "execution_count": 12,
   "metadata": {
    "collapsed": false
   },
   "outputs": [
    {
     "data": {
      "image/png": "[encoded data removed]",
      "text/plain": [
       "<matplotlib.figure.Figure at 0x1023cfe50>"
      ]
     },
     "metadata": {},
     "output_type": "display_data"
    }
   ],
   "source": [
    "plt.rcParams['figure.figsize'] = (3.0, 1.5)\n",
    "plt.plot(ELBO[:])\n",
    "plt.locator_params(nbins=3)\n",
    "plt.savefig('/Users/birdbrain/Documents/School/Columbia/GraphicalModels/Project/writeup/figures/%d/elbo.png' % (d), bbox_inches = 'tight', pad_inches = 0)\n"
   ]
  },
  {
   "cell_type": "code",
   "execution_count": 13,
   "metadata": {
    "collapsed": false
   },
   "outputs": [
    {
     "data": {
      "image/png": "[encoded data removed]",
      "text/plain": [
       "<matplotlib.figure.Figure at 0x1163eb190>"
      ]
     },
     "metadata": {},
     "output_type": "display_data"
    }
   ],
   "source": [
    "plt.rcParams['figure.figsize'] = (3.0, 1.5)\n",
    "plt.hist(z, range(K+1))\n",
    "plt.locator_params(nbins=3)\n",
    "plt.savefig('/Users/birdbrain/Documents/School/Columbia/GraphicalModels/Project/writeup/figures/%d/hist.png' % (d), bbox_inches = 'tight', pad_inches = 0)\n"
   ]
  },
  {
   "cell_type": "code",
   "execution_count": 14,
   "metadata": {
    "collapsed": false
   },
   "outputs": [
    {
     "name": "stderr",
     "output_type": "stream",
     "text": [
      "/Users/birdbrain/anaconda/lib/python2.7/site-packages/ipykernel/__main__.py:37: VisibleDeprecationWarning: using a non-integer number instead of an integer will result in an error in the future\n",
      "/Users/birdbrain/anaconda/lib/python2.7/site-packages/matplotlib/collections.py:590: FutureWarning: elementwise comparison failed; returning scalar instead, but in the future will perform elementwise comparison\n",
      "  if self._edgecolors == str('face'):\n"
     ]
    },
    {
     "name": "stdout",
     "output_type": "stream",
     "text": [
      "Cluster 1\n",
      "Cluster 2\n",
      "Cluster 3\n",
      "Cluster 4\n",
      "Cluster 5\n",
      "Cluster 6\n",
      "Cluster 7\n",
      "Cluster 8\n",
      "Cluster 9\n",
      "Cluster 10\n",
      "Cluster 11\n",
      "Cluster 12\n",
      "Cluster 13\n",
      "Cluster 14\n",
      "Cluster 15\n",
      "Cluster 16\n",
      "Cluster 17\n",
      "Cluster 18\n",
      "Cluster 19\n",
      "Cluster 20\n"
     ]
    },
    {
     "data": {
      "image/png": "[encoded data removed]",
      "text/plain": [
       "<matplotlib.figure.Figure at 0x10e187090>"
      ]
     },
     "metadata": {},
     "output_type": "display_data"
    }
   ],
   "source": [
    "n = 5\n",
    "\n",
    "plt.rcParams['figure.figsize'] = (2.0, 2.0)\n",
    "\n",
    "for k in range(K):\n",
    "    \n",
    "    print 'Cluster %d' % (k+1)\n",
    "    \n",
    "    samples = myFeatures[np.argwhere(z==k),0:3]\n",
    "    samples = samples.reshape((samples.shape[0],3))\n",
    "    \n",
    "    if len(samples) > 0:\n",
    "\n",
    "        # Get n samples from cluster k that are closest to the mean of that cluster\n",
    "        m_k = vi_m[-1,k]\n",
    "\n",
    "        features = np.reshape(myFeatures[np.argwhere(z==k),12:], (myFeatures[np.argwhere(z==k),12:].shape[0], myFeatures[np.argwhere(z==k),12:].shape[2]))\n",
    "        tree = spatial.KDTree(features)\n",
    "\n",
    "        n_neighbors = min(n, features.shape[0])\n",
    "        nn = tree.query(m_k, n_neighbors)\n",
    "\n",
    "        for i in range(n_neighbors):\n",
    "\n",
    "            sample = nn[1][i]\n",
    "\n",
    "            radius = 20\n",
    "\n",
    "            x = samples[sample,1]\n",
    "            y = samples[sample,2]\n",
    "\n",
    "            temp = misc.imread(sDir + \"/\" + (sTemperature % samples[sample,0]))\n",
    "\n",
    "#             plt.subplot(1,n,i)\n",
    "#             fig = plt.figure()\n",
    "            plt.set_cmap('gray')\n",
    "            plt.pcolor(temp[(y-radius):(y+radius), (x-radius):(x+radius)].astype(np.int))\n",
    "            plt.scatter(radius, radius, color='white', edgecolor='black')\n",
    "            plt.gca().set_axis_off()\n",
    "            plt.subplots_adjust(top = 1, bottom = 0, right = 1, left = 0, \n",
    "                        hspace = 0, wspace = 0)\n",
    "            plt.margins(0,0)\n",
    "            plt.gca().xaxis.set_major_locator(plt.NullLocator())\n",
    "            plt.gca().yaxis.set_major_locator(plt.NullLocator())\n",
    "#             plt.axis('off')\n",
    "#             fig.tight_layout()\n",
    "            plt.savefig('/Users/birdbrain/Documents/School/Columbia/GraphicalModels/Project/writeup/figures/%d/%d_%d.png' % (d, k+1, i+1), bbox_inches = 'tight', pad_inches = 0)\n",
    "\n",
    "\n",
    "#         plt.show()"
   ]
  },
  {
   "cell_type": "code",
   "execution_count": null,
   "metadata": {
    "collapsed": true
   },
   "outputs": [],
   "source": []
  },
  {
   "cell_type": "code",
   "execution_count": null,
   "metadata": {
    "collapsed": true
   },
   "outputs": [],
   "source": []
  }
 ],
 "metadata": {
  "anaconda-cloud": {},
  "kernelspec": {
   "display_name": "Python 2",
   "language": "python",
   "name": "python2"
  },
  "language_info": {
   "codemirror_mode": {
    "name": "ipython",
    "version": 2
   },
   "file_extension": ".py",
   "mimetype": "text/x-python",
   "name": "python",
   "nbconvert_exporter": "python",
   "pygments_lexer": "ipython2",
   "version": "2.7.12"
  }
 },
 "nbformat": 4,
 "nbformat_minor": 1
}
